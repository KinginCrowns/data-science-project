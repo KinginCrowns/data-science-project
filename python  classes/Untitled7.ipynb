{
 "cells": [
  {
   "cell_type": "code",
   "execution_count": 1,
   "id": "ffa782f1",
   "metadata": {},
   "outputs": [
    {
     "name": "stdout",
     "output_type": "stream",
     "text": [
      "<class 'pandas.core.frame.DataFrame'>\n",
      "RangeIndex: 9684 entries, 0 to 9683\n",
      "Data columns (total 7 columns):\n",
      " #   Column  Non-Null Count  Dtype  \n",
      "---  ------  --------------  -----  \n",
      " 0   Date    9684 non-null   object \n",
      " 1   USD     9684 non-null   float64\n",
      " 2   EUR     9684 non-null   float64\n",
      " 3   GBP     9684 non-null   float64\n",
      " 4   INR     9684 non-null   float64\n",
      " 5   AED     9684 non-null   float64\n",
      " 6   CNY     9680 non-null   float64\n",
      "dtypes: float64(6), object(1)\n",
      "memory usage: 529.7+ KB\n"
     ]
    }
   ],
   "source": [
    "# importing required libraries\n",
    "\n",
    "import numpy as np\n",
    "import pandas as pd\n",
    "import matplotlib.pyplot as plt\n",
    "from datetime import date,datetime,timedelta\n",
    "from plotly import graph_objs as go\n",
    "%matplotlib inline\n",
    "\n",
    "# importing  the data\n",
    "Daily = pd.read_csv('daily_gold_rate.csv')\n",
    "Annual = pd.read_csv('annual_gold_rate.csv')\n",
    "\n",
    "Daily.info()\n",
    "\n",
    "Daily.describe()\n",
    "\n",
    "Daily.head()\n",
    "\n",
    "Daily['Date'] = pd.to_datetime(Daily['Date'], format = \"%Y-%m-%d\")\n",
    "\n",
    "# defining the funtion for visualization\n",
    "def plot_graph(country):\n",
    "    six_step = dict(count = 6, label = \"6M\",step = 'month',stepmode = \"backward\")\n",
    "    ytd_dict = dict (count = 1, label = \"YTD\",step = 'year',stepmode = \"todate\")\n",
    "    year1_dict = dict (count = 1, label = \"1Y\",step = 'year',stepmode = \"backward\")\n",
    "    year5_dict = dict(count = 5, label = \"5Y\",step = \"year\", stepmode = \"backward\")\n",
    "    all_dict = dict(label ='MAX', step = 'all')\n",
    "    fig = go.Figure()\n",
    "    fig.add_trace(go.Scatter(x = Daily ['Date'], y = Daily[f'{country}'],mode = 'lines'))\n",
    "    fig.layout.update(title_text = f\"price of gold throughout the years in {country}\")\n",
    "    fig.update_layout(xaxis = dict(rangeselector = dict(buttons = list([six_step,ytd_dict,year1_dict,year5_dict,all_dict])),rangeslider = dict(visible = True ),type = \"date\"))\n",
    "    fig.update_layout(yaxis_title = f' Price in {country}')\n",
    "    fig.show\n",
    "\n",
    "currencies = ['USD','EUR','GBP','INR','AED', 'CNY']\n",
    "for i in currencies:\n",
    "    plot_graph(i)\n",
    "\n",
    "\n",
    "\n"
   ]
  },
  {
   "cell_type": "code",
   "execution_count": null,
   "id": "e83aa345",
   "metadata": {},
   "outputs": [],
   "source": []
  }
 ],
 "metadata": {
  "kernelspec": {
   "display_name": "Python 3 (ipykernel)",
   "language": "python",
   "name": "python3"
  },
  "language_info": {
   "codemirror_mode": {
    "name": "ipython",
    "version": 3
   },
   "file_extension": ".py",
   "mimetype": "text/x-python",
   "name": "python",
   "nbconvert_exporter": "python",
   "pygments_lexer": "ipython3",
   "version": "3.9.12"
  }
 },
 "nbformat": 4,
 "nbformat_minor": 5
}
