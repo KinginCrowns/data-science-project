{
 "cells": [
  {
   "cell_type": "code",
   "execution_count": 33,
   "metadata": {},
   "outputs": [
    {
     "name": "stdout",
     "output_type": "stream",
     "text": [
      "How many legs does spider has: 8\n",
      "What level of language is python: 7\n",
      "The time it took to answer 5 questions is 5 in 4seconds\n"
     ]
    }
   ],
   "source": [
    "import datetime\n",
    "scorelist = []\n",
    "timelist = []\n",
    "ques = {'Q1': [8,5,6,9],\n",
    "'Q2': ['Low','Static','High','Machine']\n",
    "}\n",
    "\n",
    "starttime = datetime.datetime.now()\n",
    "answer = int(input('How many legs does spider has: '))\n",
    "if answer == ques['Q1'][0]:\n",
    "    scorelist.append(5)\n",
    "else:\n",
    "    scorelist.append(0)\n",
    "answer = input('What level of language is python: ')\n",
    "if answer == ques['Q2'][2]:\n",
    "    scorelist.append(5)\n",
    "else:\n",
    "    scorelist.append(0)\n",
    "stoptime = datetime.datetime.now()\n",
    "\n",
    "\n",
    "diff = stoptime - starttime\n",
    "timelist.append(diff.seconds)\n",
    "print(f'The time it took to answer 5 questions is {sum(scorelist)} in {sum(timelist)}seconds')\n",
    "    "
   ]
  },
  {
   "cell_type": "code",
   "execution_count": null,
   "metadata": {},
   "outputs": [],
   "source": []
  },
  {
   "cell_type": "code",
   "execution_count": null,
   "metadata": {},
   "outputs": [],
   "source": []
  }
 ],
 "metadata": {
  "kernelspec": {
   "display_name": "Python 3",
   "language": "python",
   "name": "python3"
  },
  "language_info": {
   "codemirror_mode": {
    "name": "ipython",
    "version": 3
   },
   "file_extension": ".py",
   "mimetype": "text/x-python",
   "name": "python",
   "nbconvert_exporter": "python",
   "pygments_lexer": "ipython3",
   "version": "3.8.8"
  }
 },
 "nbformat": 4,
 "nbformat_minor": 4
}
