{
 "cells": [
  {
   "cell_type": "code",
   "execution_count": 1,
   "metadata": {},
   "outputs": [
    {
     "name": "stdout",
     "output_type": "stream",
     "text": [
      "welcome to python class\n",
      "None\n"
     ]
    }
   ],
   "source": [
    "def greet(): # function without a parameter or argument\n",
    "    print('welcome to python class')\n",
    "print(greet())    "
   ]
  },
  {
   "cell_type": "code",
   "execution_count": 4,
   "metadata": {},
   "outputs": [
    {
     "name": "stdout",
     "output_type": "stream",
     "text": [
      "welcome to python class simeon\n",
      "None\n"
     ]
    }
   ],
   "source": [
    "def greet2 (name):# function with  a single  parameter or argument\n",
    "    print(f'welcome to python class {name}')\n",
    "print( greet2('simeon'))"
   ]
  },
  {
   "cell_type": "code",
   "execution_count": 5,
   "metadata": {},
   "outputs": [
    {
     "name": "stdout",
     "output_type": "stream",
     "text": [
      "CANDIDATE DETAILS\n",
      "Name:simeon taiwo\n",
      "Gender:Male\n",
      "Age:28\n",
      "\n",
      "Congratulations you are eligeble to vote\n"
     ]
    }
   ],
   "source": [
    "def person(name, gender,age):\n",
    "    print(f'''CANDIDATE DETAILS\n",
    "Name:{name}\n",
    "Gender:{gender}\n",
    "Age:{age}\n",
    "''')\n",
    "    if age >= 18:\n",
    "        print('Congratulations you are eligeble to vote')\n",
    "    else:\n",
    "        print('OOPS sorry you are below the required age, you are not eligeble to vote')\n",
    "person('simeon taiwo','Male',28)"
   ]
  },
  {
   "cell_type": "code",
   "execution_count": 7,
   "metadata": {},
   "outputs": [
    {
     "name": "stdout",
     "output_type": "stream",
     "text": [
      "CANDIDATE DETAILS\n",
      "Name:simeon taiwo\n",
      "Gender:Male\n",
      "Age:40\n",
      "\n",
      "Congratulations you are eligeble to vote\n"
     ]
    }
   ],
   "source": [
    "def vote(name, gender,age = 18):\n",
    "    print(f'''CANDIDATE DETAILS\n",
    "Name:{name}\n",
    "Gender:{gender}\n",
    "Age:{age}\n",
    "''')\n",
    "    if age >= 18:\n",
    "        print('Congratulations you are eligeble to vote')\n",
    "    else:\n",
    "        print('OOPS sorry you are below the required age, you are not eligeble to vote')\n",
    "vote('simeon taiwo','Male', 40)"
   ]
  },
  {
   "cell_type": "code",
   "execution_count": 11,
   "metadata": {},
   "outputs": [
    {
     "name": "stdout",
     "output_type": "stream",
     "text": [
      "Math score:28\n",
      "English score:56\n",
      "Chemistry score:80\n",
      "Biology score:95\n",
      "Physics score:85\n",
      "your average score in 5 subjects is 68.8  your grade is B\n"
     ]
    }
   ],
   "source": [
    "def gradingsystem():\n",
    "    score1 = int(input('Math score:'))\n",
    "    score2 = int(input('English score:'))\n",
    "    score3 = int(input('Chemistry score:'))\n",
    "    score4 = int(input('Biology score:'))\n",
    "    score5 = int(input('Physics score:'))\n",
    "    avgscore = (score1 + score2 + score3 + score4 + score5)/5\n",
    "\n",
    "    if avgscore  >= 70 and avgscore <= 100:\n",
    "        print(f'your average score in 5 subjects is {avgscore}  your grade is A')\n",
    "    elif avgscore >= 60 and avgscore <= 69.99:\n",
    "        print(f'your average score in 5 subjects is {avgscore}  your grade is B')\n",
    "    elif avgscore >= 55 and avgscore <= 59.99:\n",
    "        print(f'your average score in 5 subjects is {avgscore}  your grade is C')\n",
    "    elif avgscore >= 50 and avgscore <= 54.99:\n",
    "        print(f'your average score in 5 subjects is {avgscore}  your grade is D') \n",
    "    elif avgscore >= 40 and avgscore <= 49.99:\n",
    "        print(f'your average score in 5 subjects is {avgscore}  your grade is E')\n",
    "    else:\n",
    "        print(f'your average score in 5 subjects is {avgscore}  your grade is F') \n",
    "gradingsystem()"
   ]
  },
  {
   "cell_type": "markdown",
   "metadata": {},
   "source": [
    "# write a function to find the max of three numbers \n",
    "\n"
   ]
  },
  {
   "cell_type": "code",
   "execution_count": 17,
   "metadata": {},
   "outputs": [
    {
     "name": "stdout",
     "output_type": "stream",
     "text": [
      "please enter a number 50\n",
      "Please enter a number: 30\n",
      "please enter a number 55\n",
      "number 3 is the greatest number\n"
     ]
    }
   ],
   "source": [
    "def maximumnumber():\n",
    "    num1 = int(input ('please enter a number '))\n",
    "    num2 = int(input ('Please enter a number: '))\n",
    "    num3 = int(input ('please enter a number '))\n",
    "    \n",
    "    if num1 > num2 and num1 > num3 :\n",
    "        print('number 1 is the greatest number')\n",
    "    elif num2 > num1 and num2 > num3:\n",
    "        print('number 2 is the greatest number')\n",
    "    else:\n",
    "        print('number 3 is the greatest number')\n",
    "        \n",
    "maximumnumber()\n",
    "    \n",
    "        "
   ]
  },
  {
   "cell_type": "markdown",
   "metadata": {},
   "source": [
    "# write a function to find if a year is a leapyear"
   ]
  },
  {
   "cell_type": "code",
   "execution_count": 27,
   "metadata": {},
   "outputs": [
    {
     "name": "stdout",
     "output_type": "stream",
     "text": [
      "Please provide the year: 2016\n",
      "2016 is a leap year\n"
     ]
    }
   ],
   "source": [
    "def leapyear():\n",
    "    \n",
    "    Year = int(input('Please provide the year: '))\n",
    "    \n",
    "    if Year % 4 == 0:\n",
    "        print(f'{Year} is a leap year')\n",
    "    else:\n",
    "        print(f'{Year} is not a  leap year')\n",
    "leapyear()"
   ]
  },
  {
   "cell_type": "markdown",
   "metadata": {},
   "source": [
    "# keyword and non - keyword argument funtion"
   ]
  },
  {
   "cell_type": "code",
   "execution_count": 28,
   "metadata": {},
   "outputs": [
    {
     "name": "stdout",
     "output_type": "stream",
     "text": [
      "<class 'tuple'>\n",
      "424.1818181818182\n"
     ]
    }
   ],
   "source": [
    "import statistics as st # single astherist means non- keyword\n",
    "def average(*args):\n",
    "    print(type(args))\n",
    "    print(st.mean(args))\n",
    "average(85,85,632,95,56,85,985,965,574,552,552)"
   ]
  },
  {
   "cell_type": "code",
   "execution_count": 32,
   "metadata": {},
   "outputs": [
    {
     "name": "stdout",
     "output_type": "stream",
     "text": [
      "<class 'dict'>\n",
      "Namme : Ojo\n",
      "Gender : Male\n",
      "Age : 30\n"
     ]
    }
   ],
   "source": [
    "def details(**kwargs):\n",
    "    print(type(kwargs))\n",
    "    for key,value in kwargs.items():\n",
    "        print(key, ':', value)\n",
    "details(Namme = 'Ojo', Gender = 'Male', Age = 30)"
   ]
  },
  {
   "cell_type": "code",
   "execution_count": null,
   "metadata": {},
   "outputs": [],
   "source": []
  }
 ],
 "metadata": {
  "kernelspec": {
   "display_name": "Python 3",
   "language": "python",
   "name": "python3"
  },
  "language_info": {
   "codemirror_mode": {
    "name": "ipython",
    "version": 3
   },
   "file_extension": ".py",
   "mimetype": "text/x-python",
   "name": "python",
   "nbconvert_exporter": "python",
   "pygments_lexer": "ipython3",
   "version": "3.8.8"
  }
 },
 "nbformat": 4,
 "nbformat_minor": 4
}
