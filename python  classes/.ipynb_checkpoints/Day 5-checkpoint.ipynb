{
 "cells": [
  {
   "cell_type": "markdown",
   "metadata": {},
   "source": [
    "# loops \n"
   ]
  },
  {
   "cell_type": "code",
   "execution_count": 1,
   "metadata": {},
   "outputs": [
    {
     "name": "stdout",
     "output_type": "stream",
     "text": [
      "p\n",
      "y\n",
      "t\n",
      "h\n",
      "o\n",
      "n\n"
     ]
    }
   ],
   "source": [
    " word = 'python'\n",
    " for char in word:\n",
    "    print(char)"
   ]
  },
  {
   "cell_type": "code",
   "execution_count": 2,
   "metadata": {},
   "outputs": [
    {
     "name": "stdout",
     "output_type": "stream",
     "text": [
      "ppp\n",
      "yyy\n",
      "ttt\n",
      "hhh\n",
      "ooo\n",
      "nnn\n"
     ]
    }
   ],
   "source": [
    "word = 'python'\n",
    "for char in word:\n",
    "    print(char * 3)"
   ]
  },
  {
   "cell_type": "code",
   "execution_count": 3,
   "metadata": {},
   "outputs": [
    {
     "name": "stdout",
     "output_type": "stream",
     "text": [
      " hey, ade this is for your kind reminder of the meeting scheduled to hold today by 5pm\n",
      " hey, Ojo this is for your kind reminder of the meeting scheduled to hold today by 5pm\n",
      " hey, ade this is for your kind reminder of the meeting scheduled to hold today by 5pm\n",
      " hey, kunle this is for your kind reminder of the meeting scheduled to hold today by 5pm\n"
     ]
    }
   ],
   "source": [
    "names =['ade','Ojo','ade','kunle']\n",
    "for name in names:\n",
    "    print(f' hey, {name} this is for your kind reminder of the meeting scheduled to hold today by 5pm')"
   ]
  },
  {
   "cell_type": "code",
   "execution_count": 4,
   "metadata": {},
   "outputs": [],
   "source": [
    "scores ={\n",
    "    'james':98,\n",
    "    'Samuel':85,\n",
    "    'Mary':90,\n",
    "    'John':87,\n",
    "     'Ruth':48,\n",
    "    'Samuel':92,\n",
    "    'Jane':100\n",
    "}"
   ]
  },
  {
   "cell_type": "code",
   "execution_count": 5,
   "metadata": {},
   "outputs": [
    {
     "name": "stdout",
     "output_type": "stream",
     "text": [
      "james : 98\n",
      "Samuel : 92\n",
      "Mary : 90\n",
      "John : 87\n",
      "Ruth : 48\n",
      "Jane : 100\n"
     ]
    }
   ],
   "source": [
    "for key,value in scores.items():\n",
    "    print(key,':',value)"
   ]
  },
  {
   "cell_type": "code",
   "execution_count": null,
   "metadata": {},
   "outputs": [],
   "source": [
    "name = input('Please enter your name to check scores:')\n",
    "for key in scores:\n",
    "    if name == key:\n",
    "        print(f'Congratulations your score is {scores[key]}')\n",
    "    else:\n",
    "        print('hey the records with the specified above name is not found')"
   ]
  },
  {
   "cell_type": "markdown",
   "metadata": {},
   "source": [
    "# Break"
   ]
  },
  {
   "cell_type": "code",
   "execution_count": null,
   "metadata": {},
   "outputs": [],
   "source": [
    "name = input('Please enter your name to check scores:')\n",
    "for key in scores:\n",
    "    if name == key:\n",
    "        print(f'Congratulations your score is {scores[key]}')\n",
    "        break\n",
    "    else:\n",
    "        print('hey the records with the specified above name is not found')"
   ]
  },
  {
   "cell_type": "code",
   "execution_count": null,
   "metadata": {},
   "outputs": [],
   "source": [
    "name = input('Please enter your name to check scores:')\n",
    "for key in scores:\n",
    "    if name == key:\n",
    "        print(f'Congratulations your score is {scores[key]}')\n",
    "        continue\n",
    "    else:\n",
    "        print('hey the records with the specified above name is not found')"
   ]
  },
  {
   "cell_type": "code",
   "execution_count": null,
   "metadata": {},
   "outputs": [],
   "source": [
    "name = input('Please enter your name to check scores:')\n",
    "for key in scores:\n",
    "    if name == key:\n",
    "        print(f'Congratulations your score is {scores[key]}')\n",
    "        break\n",
    "else:\n",
    "    print('hey the records with the specified above name is not found')"
   ]
  },
  {
   "cell_type": "markdown",
   "metadata": {},
   "source": [
    "# while loop #it is used when you want to meet a  certain condition"
   ]
  },
  {
   "cell_type": "code",
   "execution_count": null,
   "metadata": {},
   "outputs": [],
   "source": [
    "import math\n",
    "count = 0\n",
    "num = int(input('Please provide a number:'))\n",
    "while num!= 0:\n",
    "    print(math.sqrt(num))\n",
    "    count = count + 1\n",
    "    num = int(input('Please provide a number:'))\n"
   ]
  },
  {
   "cell_type": "code",
   "execution_count": null,
   "metadata": {},
   "outputs": [],
   "source": [
    "import random as rn\n",
    "number = []\n",
    "counter = 1\n",
    "while counter <= 100:\n",
    "    num = rn.randint(45,70)\n",
    "    number.append(num)\n",
    "    counter +=1"
   ]
  },
  {
   "cell_type": "code",
   "execution_count": null,
   "metadata": {},
   "outputs": [],
   "source": [
    "print(number)"
   ]
  },
  {
   "cell_type": "code",
   "execution_count": null,
   "metadata": {},
   "outputs": [],
   "source": [
    "print(len(number))"
   ]
  },
  {
   "cell_type": "markdown",
   "metadata": {},
   "source": [
    "# writing a dice game using for loop"
   ]
  },
  {
   "cell_type": "code",
   "execution_count": null,
   "metadata": {},
   "outputs": [],
   "source": [
    "score1 = 0\n",
    "score2 = 0\n",
    "\n",
    "for i in range (1,11):\n",
    "    dice1 = rn.randint(1,6)\n",
    "    dice2 = rn.randint(1,6)\n",
    "    \n",
    "    if dice1  > dice2:\n",
    "        print(f'''Player 1 score:{dice1}\n",
    "player 2 score: {dice2}\n",
    "player 1 WINS\n",
    "    ''')\n",
    "        score1 = score1 + 3\n",
    "    elif dice2  > dice1:\n",
    "        print(f'''Player 1 score:{dice1}\n",
    "player 2 score: {dice2}\n",
    "player 2 WINS\n",
    "    ''')\n",
    "        score2 = score2 + 3\n",
    "    else:\n",
    "        print(f'''Player 1 score:{dice1}\n",
    "player 2 score: {dice2}\n",
    "IT's A DRAW\n",
    "    ''')\n",
    "        score1 = score1 + 1\n",
    "        score2 = score2 + 1\n",
    "if score1 > score2:\n",
    "    print(f'Congratulations player 1 is thr overall winner with total score of{score1}')\n",
    "elif score2 > score1:\n",
    "    print(f'Congratulations player 2 is the overall winner with total score of {score2}')\n",
    "else:\n",
    "    print('IT IS A DRAW')"
   ]
  },
  {
   "cell_type": "code",
   "execution_count": null,
   "metadata": {},
   "outputs": [],
   "source": [
    "score1 = 0\n",
    "score2 = 0\n",
    "counter = 1\n",
    "\n",
    "while counter <= 10:\n",
    "    dice1 = rn.randint(1,6)\n",
    "    dice2 = rn.randint(1,6)\n",
    "    \n",
    "    if dice1  > dice2:\n",
    "        print(f'''Player 1 score:{dice1}\n",
    "player 2 score: {dice2}\n",
    "player 1 WINS\n",
    "    ''')\n",
    "        score1 = score1 + 3\n",
    "    elif dice2  > dice1:\n",
    "        print(f'''Player 1 score:{dice1}\n",
    "player 2 score: {dice2}\n",
    "player 2 WINS\n",
    "    ''')\n",
    "        score2 = score2 + 3\n",
    "    else:\n",
    "        print(f'''Player 1 score:{dice1}\n",
    "player 2 score: {dice2}\n",
    "IT's A DRAW\n",
    "    ''')\n",
    "        score1 = score1 + 1\n",
    "        score2 = score2 + 1\n",
    "    counter += 1    \n",
    "if score1 > score2:\n",
    "    print(f'Congratulations player 1 is thr overall winner with total score of{score1}')\n",
    "elif score2 > score1:\n",
    "    print(f'Congratulations player 2 is the overall winner with total score of {score2}')\n",
    "else:\n",
    "    print('IT IS A DRAW')"
   ]
  },
  {
   "cell_type": "code",
   "execution_count": null,
   "metadata": {},
   "outputs": [],
   "source": []
  }
 ],
 "metadata": {
  "kernelspec": {
   "display_name": "Python 3",
   "language": "python",
   "name": "python3"
  },
  "language_info": {
   "codemirror_mode": {
    "name": "ipython",
    "version": 3
   },
   "file_extension": ".py",
   "mimetype": "text/x-python",
   "name": "python",
   "nbconvert_exporter": "python",
   "pygments_lexer": "ipython3",
   "version": "3.8.8"
  }
 },
 "nbformat": 4,
 "nbformat_minor": 4
}
