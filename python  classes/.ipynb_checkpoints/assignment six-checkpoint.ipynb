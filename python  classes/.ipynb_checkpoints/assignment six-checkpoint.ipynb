{
 "cells": [
  {
   "cell_type": "markdown",
   "id": "257cc9b5",
   "metadata": {},
   "source": [
    " # 1"
   ]
  },
  {
   "cell_type": "code",
   "execution_count": 1,
   "id": "4fbde5de",
   "metadata": {},
   "outputs": [
    {
     "name": "stdout",
     "output_type": "stream",
     "text": [
      "Please enter your password : adevag\n",
      "Sorry password must have atleast one upper case\n"
     ]
    }
   ],
   "source": [
    "def Password_validity():\n",
    "    Password = input('Please enter your password : ')\n",
    "    Special_character = ['\\'.','<','>','!','@','$','%','^','&','*','~','`']\n",
    "    \n",
    "                         \n",
    "    if not any(char.isupper() for char in Password):\n",
    "        print('Sorry password must have atleast one upper case')\n",
    "   \n",
    "    elif not any(char.islower() for char in Password):\n",
    "        print('Sorry password must have atleast one lower case')\n",
    "                         \n",
    "    elif not any(char.isdigit() for char in Password):\n",
    "        print('Sorry password must have atleast one Digit case')\n",
    "                         \n",
    "    elif len(Password) <8:\n",
    "        print('Sorry password must have a minimum of 8 characters')\n",
    "                         \n",
    "    elif not any(char in Special_character for char in Password):\n",
    "        print('Sorry password must have atleast one Special character')\n",
    "                         \n",
    "    else:\n",
    "        print('PASSWORD ACCEPTED')\n",
    "                         \n",
    "Password_validity()"
   ]
  },
  {
   "cell_type": "markdown",
   "id": "88476e08",
   "metadata": {},
   "source": [
    "# 2"
   ]
  },
  {
   "cell_type": "code",
   "execution_count": 7,
   "id": "148a110a",
   "metadata": {},
   "outputs": [
    {
     "name": "stdout",
     "output_type": "stream",
     "text": [
      "['Junior :127', 'Intermediate :1344', 'Intermediate :1229', 'Intermediate :1534', 'Senior :1631', 'Intermediate :1492', 'Junior :943', 'Senior :1849', 'Intermediate :1563', 'Senior :1937', 'Senior :1814', 'Junior :641', 'Intermediate :1360', 'Junior :370', 'Junior :1178', 'Junior :564', 'Junior :875', 'Senior :1674', 'Senior :1843', 'Junior :1158', 'Junior :425', 'Junior :724', 'Junior :1177', 'Intermediate :1504', 'Junior :457', 'Junior :799', 'Junior :482', 'Senior :1820', 'Senior :1614', 'Junior :597', 'Junior :224', 'Intermediate :1524', 'Junior :376', 'Junior :1012', 'Senior :1766', 'Junior :820', 'Junior :205', 'Junior :749', 'Junior :1127', 'Junior :656', 'Junior :829', 'Junior :1040', 'Junior :156', 'Junior :246', 'Junior :508', 'Intermediate :1451', 'Junior :259', 'Junior :676', 'Senior :1816', 'Intermediate :1333', 'Senior :1807', 'Senior :1934', 'Intermediate :1244', 'Senior :1701', 'Senior :1842', 'Senior :1868', 'Intermediate :1215', 'Junior :883', 'Senior :1739', 'Senior :2000', 'Intermediate :1413', 'Junior :1091', 'Intermediate :1323', 'Intermediate :1486', 'Junior :294', 'Junior :356', 'Junior :863', 'Senior :1861', 'Intermediate :1342', 'Junior :808', 'Senior :1672', 'Junior :209', 'Junior :1130', 'Intermediate :1275', 'Junior :235', 'Junior :721', 'Junior :1014', 'Junior :407', 'Intermediate :1500', 'Junior :383', 'Intermediate :1508', 'Junior :203', 'Senior :1762', 'Junior :602', 'Intermediate :1242', 'Senior :1675', 'Intermediate :1569', 'Senior :1662', 'Junior :127', 'Senior :1806', 'Senior :1633', 'Senior :1966', 'Intermediate :1428', 'Intermediate :1232', 'Senior :1967', 'Intermediate :1408', 'Junior :854', 'Intermediate :1542', 'Intermediate :1441', 'Junior :765', 'Junior :1189', 'Intermediate :1221', 'Junior :774', 'Senior :1607', 'Junior :216', 'Junior :446', 'Junior :325', 'Junior :918', 'Junior :1039', 'Junior :1087', 'Junior :253', 'Junior :631', 'Intermediate :1236', 'Junior :473', 'Junior :543', 'Intermediate :1398', 'Senior :1920', 'Junior :327', 'Intermediate :1454', 'Senior :1935', 'Junior :281', 'Intermediate :1526', 'Junior :452', 'Junior :1181', 'Junior :1118', 'Senior :1621', 'Junior :1181', 'Junior :1164', 'Junior :1090', 'Intermediate :1573', 'Junior :523', 'Junior :240', 'Junior :788', 'Intermediate :1520', 'Senior :1894', 'Junior :611', 'Senior :1993', 'Intermediate :1263', 'Intermediate :1256', 'Junior :887', 'Senior :1610', 'Senior :1996', 'Intermediate :1432', 'Junior :693', 'Junior :204', 'Junior :297', 'Junior :152', 'Junior :1177', 'Senior :1668', 'Senior :1726', 'Intermediate :1500', 'Junior :849', 'Junior :367', 'Junior :144', 'Intermediate :1577', 'Junior :988', 'Junior :409', 'Senior :1845', 'Junior :303', 'Senior :1666', 'Senior :1831', 'Junior :877', 'Intermediate :1223', 'Intermediate :1471', 'Junior :681', 'Intermediate :1573', 'Intermediate :1243', 'Junior :974', 'Intermediate :1357', 'Intermediate :1432', 'Senior :1672', 'Junior :130', 'Junior :278', 'Junior :357', 'Senior :1810', 'Junior :670', 'Intermediate :1417', 'Junior :684', 'Senior :1973', 'Junior :1096', 'Intermediate :1533', 'Junior :463', 'Junior :292', 'Junior :296', 'Junior :1017', 'Junior :277', 'Intermediate :1359', 'Junior :499', 'Junior :651', 'Junior :540', 'Junior :555', 'Junior :864', 'Junior :930', 'Junior :658', 'Junior :532', 'Junior :172', 'Senior :1736', 'Senior :1819', 'Senior :1841', 'Junior :370', 'Junior :865', 'Senior :1917', 'Intermediate :1428', 'Junior :641', 'Junior :197', 'Junior :398', 'Senior :1602', 'Junior :721', 'Senior :1677', 'Intermediate :1312', 'Senior :1913', 'Senior :1891', 'Junior :187', 'Intermediate :1395', 'Junior :797', 'Senior :1921', 'Intermediate :1577', 'Intermediate :1227', 'Junior :399', 'Intermediate :1600', 'Intermediate :1280', 'Junior :816', 'Junior :371', 'Senior :1633', 'Senior :1643', 'Junior :886', 'Junior :1079', 'Senior :1966', 'Junior :915', 'Junior :179', 'Junior :344', 'Senior :1824', 'Senior :1810', 'Intermediate :1523', 'Intermediate :1340', 'Junior :509', 'Junior :201', 'Intermediate :1308', 'Intermediate :1357', 'Junior :102', 'Junior :495', 'Junior :694', 'Senior :1636', 'Senior :1931', 'Intermediate :1572', 'Intermediate :1471', 'Senior :1779', 'Junior :412', 'Senior :1719', 'Junior :790', 'Senior :1711', 'Intermediate :1207', 'Junior :565', 'Junior :885', 'Junior :483', 'Junior :268', 'Senior :1739', 'Senior :1722', 'Intermediate :1523', 'Intermediate :1392', 'Junior :294', 'Junior :588', 'Junior :474', 'Intermediate :1219', 'Junior :841', 'Intermediate :1334', 'Junior :724', 'Junior :926', 'Junior :140', 'Senior :1879', 'Senior :1823', 'Intermediate :1501', 'Junior :1177', 'Junior :916', 'Junior :1045', 'Senior :1655', 'Senior :1733', 'Junior :1154', 'Junior :1056', 'Junior :623', 'Junior :333', 'Junior :1139', 'Senior :1768', 'Senior :1803', 'Junior :1056', 'Senior :1778', 'Junior :717', 'Junior :1196', 'Senior :1667', 'Intermediate :1594', 'Junior :942', 'Junior :333', 'Junior :869', 'Junior :845', 'Senior :1768', 'Intermediate :1277', 'Senior :1630', 'Junior :705', 'Senior :1648', 'Intermediate :1238', 'Intermediate :1507', 'Senior :1957', 'Intermediate :1555', 'Junior :660', 'Junior :634', 'Senior :1834', 'Junior :527', 'Junior :1192', 'Intermediate :1558', 'Junior :1039', 'Junior :161', 'Senior :1717', 'Junior :781', 'Junior :368', 'Senior :1885', 'Senior :1934', 'Senior :1895', 'Senior :1670', 'Junior :145', 'Junior :180', 'Junior :268', 'Senior :1640', 'Junior :458', 'Junior :1038', 'Junior :492', 'Junior :501', 'Intermediate :1415', 'Junior :758', 'Intermediate :1407', 'Senior :1632', 'Junior :991', 'Junior :929', 'Junior :1194', 'Junior :1094', 'Junior :776', 'Junior :330', 'Intermediate :1567', 'Junior :866', 'Junior :776', 'Junior :1079', 'Junior :793', 'Junior :959', 'Intermediate :1242', 'Intermediate :1390', 'Intermediate :1538', 'Junior :611', 'Junior :737', 'Junior :677', 'Junior :930', 'Junior :650', 'Senior :1721', 'Junior :1126', 'Junior :1049', 'Junior :172', 'Junior :1055', 'Intermediate :1534', 'Senior :1624', 'Intermediate :1297', 'Intermediate :1319', 'Junior :113', 'Junior :293', 'Junior :176', 'Senior :1815', 'Junior :1180', 'Junior :492', 'Senior :1824', 'Junior :630', 'Junior :1102', 'Junior :600', 'Intermediate :1378', 'Junior :1154', 'Intermediate :1320', 'Junior :1047', 'Junior :544', 'Intermediate :1241', 'Intermediate :1555', 'Senior :1609', 'Junior :1076', 'Intermediate :1244', 'Senior :1966', 'Intermediate :1411', 'Junior :347', 'Junior :716', 'Senior :1837', 'Senior :1954', 'Junior :413', 'Junior :583', 'Senior :1845', 'Junior :512', 'Senior :1941', 'Junior :1118', 'Junior :1077', 'Junior :1080', 'Senior :1736', 'Junior :975', 'Senior :1891', 'Senior :1860', 'Senior :1641', 'Junior :1142', 'Senior :1602', 'Junior :1162', 'Junior :151', 'Junior :117', 'Junior :420', 'Intermediate :1485', 'Junior :566', 'Intermediate :1243', 'Intermediate :1202', 'Junior :1070', 'Senior :1889', 'Junior :367', 'Junior :648', 'Senior :1976', 'Intermediate :1569', 'Intermediate :1268', 'Junior :677', 'Junior :223', 'Junior :589', 'Senior :1960', 'Intermediate :1358', 'Junior :389', 'Intermediate :1224', 'Junior :893', 'Junior :498', 'Junior :456', 'Senior :1717', 'Junior :533', 'Junior :670', 'Intermediate :1470', 'Senior :1987', 'Junior :941', 'Intermediate :1390', 'Junior :1084', 'Junior :1191', 'Junior :336', 'Junior :780', 'Junior :1087', 'Intermediate :1414', 'Junior :805', 'Intermediate :1299', 'Junior :925', 'Junior :1118', 'Senior :1923', 'Senior :1912', 'Junior :517', 'Junior :1043', 'Junior :1082', 'Junior :1171', 'Junior :440', 'Junior :1024', 'Senior :1891', 'Intermediate :1305', 'Junior :251', 'Senior :1737', 'Junior :568', 'Junior :543', 'Senior :1691', 'Senior :1754', 'Junior :154', 'Junior :499', 'Senior :1720', 'Senior :1656', 'Intermediate :1433', 'Junior :917', 'Junior :247', 'Junior :583', 'Junior :559', 'Junior :283', 'Junior :1094', 'Intermediate :1555', 'Senior :1714', 'Senior :1823', 'Intermediate :1207', 'Intermediate :1273', 'Junior :1078', 'Intermediate :1451', 'Intermediate :1407', 'Junior :734', 'Junior :302', 'Junior :629', 'Intermediate :1219', 'Senior :1801', 'Junior :1195', 'Senior :1694', 'Junior :170', 'Intermediate :1289', 'Intermediate :1459', 'Intermediate :1290', 'Senior :1703', 'Senior :1983', 'Senior :1630', 'Junior :163', 'Junior :759', 'Junior :1191', 'Junior :606', 'Junior :323', 'Junior :352', 'Junior :282', 'Intermediate :1503', 'Junior :1005']\n"
     ]
    }
   ],
   "source": [
    "\n",
    "    import random as rn\n",
    "    JRN = 'Junior :'\n",
    "    ITM = 'Intermediate :'\n",
    "    SRN = 'Senior :'\n",
    "    Stafflist =[]\n",
    "    counter = 1\n",
    "    \n",
    "    while counter <= 500:\n",
    "        N = rn.randint(100,2001)\n",
    "        strN = str(N)\n",
    "        \n",
    "        if N >= 100 and N <=1200:\n",
    "            Stafflist.append(JRN + strN)\n",
    "            \n",
    "        elif N >= 1201 and N <=1600:\n",
    "            Stafflist.append(ITM + strN)\n",
    "        else:\n",
    "            Stafflist.append(SRN + strN)\n",
    "    counter += 1\n",
    "    Junior_Staff_filter :list(filter(lambda))\n",
    "\n",
    "    print(Stafflist)"
   ]
  },
  {
   "cell_type": "code",
   "execution_count": null,
   "id": "fc4c55d7",
   "metadata": {},
   "outputs": [],
   "source": []
  }
 ],
 "metadata": {
  "kernelspec": {
   "display_name": "Python 3",
   "language": "python",
   "name": "python3"
  },
  "language_info": {
   "codemirror_mode": {
    "name": "ipython",
    "version": 3
   },
   "file_extension": ".py",
   "mimetype": "text/x-python",
   "name": "python",
   "nbconvert_exporter": "python",
   "pygments_lexer": "ipython3",
   "version": "3.8.8"
  }
 },
 "nbformat": 4,
 "nbformat_minor": 5
}
