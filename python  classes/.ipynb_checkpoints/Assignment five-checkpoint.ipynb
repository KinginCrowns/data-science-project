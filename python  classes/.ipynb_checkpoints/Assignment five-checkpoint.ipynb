{
 "cells": [
  {
   "cell_type": "code",
   "execution_count": 10,
   "id": "baea6727",
   "metadata": {},
   "outputs": [
    {
     "name": "stdout",
     "output_type": "stream",
     "text": [
      "Please provide your weight : 100\n",
      "Please provide your height :1.524\n",
      "Danger you are morbidly obese\n"
     ]
    }
   ],
   "source": [
    "# wiriting a funtion to determine body mass index of an individual\n",
    "\n",
    "def Body_mass_index():\n",
    "    \n",
    "    # Prompting the individual to input His/Her Height and Weight\n",
    "    \n",
    "        Weight = int(input('Please provide your weight : '))\n",
    "        Height = float(input('Please provide your height :'))\n",
    "        \n",
    "    # Assigning Body mass to the Body mass index formulae\n",
    "        Body_mass = Weight / Height\n",
    "    \n",
    "    # Conditions to determine which group an individaul falls on\n",
    "        \n",
    "        if Body_mass <= 16.0:\n",
    "            print('Opps sorry you are severely underweight')\n",
    "            \n",
    "        elif Body_mass >= 16.1 and Body_mass <= 18.4:\n",
    "            print('Opps sorry you are underweight')\n",
    "            \n",
    "        elif Body_mass >= 18.5 and Body_mass <= 24.9:\n",
    "            print('Congratutation your body mass index is normal')\n",
    "            \n",
    "        elif Body_mass >= 25.0 and Body_mass <= 29.9:\n",
    "            print('Hey buddy you are currently overweight ')\n",
    "            \n",
    "        elif Body_mass >= 30.0 and Body_mass <= 34.9:\n",
    "            print('Hey buddy you are moderately obese')\n",
    "            \n",
    "        elif Body_mass >= 35.0 and Body_mass <= 39.9:\n",
    "            print('hey your severely obese kindly do something about it')\n",
    "            \n",
    "        else:\n",
    "            print('Danger you are morbidly obese')\n",
    "            \n",
    "    # Calling the function used to determine the Body mass index\n",
    "Body_mass_index()"
   ]
  },
  {
   "cell_type": "code",
   "execution_count": null,
   "id": "2b58bf96",
   "metadata": {},
   "outputs": [],
   "source": []
  },
  {
   "cell_type": "code",
   "execution_count": null,
   "id": "44f715ad",
   "metadata": {},
   "outputs": [],
   "source": []
  }
 ],
 "metadata": {
  "kernelspec": {
   "display_name": "Python 3",
   "language": "python",
   "name": "python3"
  },
  "language_info": {
   "codemirror_mode": {
    "name": "ipython",
    "version": 3
   },
   "file_extension": ".py",
   "mimetype": "text/x-python",
   "name": "python",
   "nbconvert_exporter": "python",
   "pygments_lexer": "ipython3",
   "version": "3.8.8"
  }
 },
 "nbformat": 4,
 "nbformat_minor": 5
}
