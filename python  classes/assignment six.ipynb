{
 "cells": [
  {
   "cell_type": "markdown",
   "id": "a44ce9e8",
   "metadata": {},
   "source": [
    " # 1"
   ]
  },
  {
   "cell_type": "code",
   "execution_count": null,
   "id": "196f65fc",
   "metadata": {},
   "outputs": [],
   "source": [
    "def Password_validity():\n",
    "    Password = input('Please enter your password : ')\n",
    "    Special_character = ['\\'.','<','>','!','@','$','%','^','&','*','~','`']\n",
    "    \n",
    "                         \n",
    "    if not any(char.isupper() for char in Password):\n",
    "        print('Sorry password must have atleast one upper case')\n",
    "   \n",
    "    elif not any(char.islower() for char in Password):\n",
    "        print('Sorry password must have atleast one lower case')\n",
    "                         \n",
    "    elif not any(char.isdigit() for char in Password):\n",
    "        print('Sorry password must have atleast one Digit case')\n",
    "                         \n",
    "    elif len(Password) <8:\n",
    "        print('Sorry password must have a minimum of 8 characters')\n",
    "                         \n",
    "    elif not any(char in Special_character for char in Password):\n",
    "        print('Sorry password must have atleast one Special character')\n",
    "                         \n",
    "    else:\n",
    "        print('PASSWORD ACCEPTED')\n",
    "                         \n",
    "Password_validity()"
   ]
  },
  {
   "cell_type": "markdown",
   "id": "af198c85",
   "metadata": {},
   "source": [
    "# 2"
   ]
  },
  {
   "cell_type": "code",
   "execution_count": 6,
   "id": "c05acce9",
   "metadata": {},
   "outputs": [
    {
     "name": "stdout",
     "output_type": "stream",
     "text": [
      "['Junior :1824', 'Junior :729', 'Junior :712', 'Junior :189', 'Junior :1571', 'Junior :1751', 'Junior :303', 'Junior :1829', 'Junior :459', 'Junior :146', 'Junior :1997', 'Junior :344', 'Junior :1053', 'Junior :1011', 'Junior :852', 'Junior :1966', 'Junior :1383', 'Junior :374', 'Junior :1902', 'Junior :1064', 'Junior :1805', 'Junior :1391', 'Junior :576', 'Junior :1247', 'Junior :1468', 'Junior :858', 'Junior :1005', 'Junior :723', 'Junior :525', 'Junior :1536', 'Junior :1234', 'Junior :410', 'Junior :1001', 'Junior :793', 'Junior :125', 'Junior :839', 'Junior :1975', 'Junior :1749', 'Junior :1004', 'Junior :453', 'Junior :878', 'Junior :510', 'Junior :347', 'Junior :491', 'Junior :1683', 'Junior :247', 'Junior :453', 'Junior :132', 'Junior :1631', 'Junior :1497', 'Junior :791', 'Junior :1066', 'Junior :187', 'Junior :1976', 'Junior :139', 'Junior :1208', 'Junior :546', 'Junior :1900', 'Junior :622', 'Junior :623', 'Junior :1049', 'Junior :658', 'Junior :1811', 'Junior :337', 'Junior :537', 'Junior :567', 'Junior :701', 'Junior :1883', 'Junior :953', 'Junior :1759', 'Junior :1675', 'Junior :397', 'Junior :845', 'Junior :253', 'Junior :1570', 'Junior :359', 'Junior :239', 'Junior :1593', 'Junior :223', 'Junior :481', 'Junior :1348', 'Junior :1312', 'Junior :945', 'Junior :664', 'Junior :541', 'Junior :606', 'Junior :382', 'Junior :639', 'Junior :1308', 'Junior :1057', 'Junior :528', 'Junior :1353', 'Junior :330', 'Junior :1640', 'Junior :1047', 'Junior :1577', 'Junior :1617', 'Junior :1735', 'Junior :1559', 'Junior :378', 'Junior :298', 'Junior :1974', 'Junior :326', 'Junior :1881', 'Junior :1364', 'Junior :831', 'Junior :1481', 'Junior :1045', 'Junior :1783', 'Junior :952', 'Junior :486', 'Junior :1781', 'Junior :565', 'Junior :540', 'Junior :1584', 'Junior :276', 'Junior :1706', 'Junior :1304', 'Junior :127', 'Junior :263', 'Junior :667', 'Junior :1609', 'Junior :413', 'Junior :1298', 'Junior :1728', 'Junior :1747', 'Junior :815', 'Junior :1552', 'Junior :1798', 'Junior :1777', 'Junior :1041', 'Junior :1333', 'Junior :1753', 'Junior :1047', 'Junior :175', 'Junior :1885', 'Junior :1340', 'Junior :1102', 'Junior :979', 'Junior :491', 'Junior :639', 'Junior :237', 'Junior :256', 'Junior :1972', 'Junior :1365', 'Junior :684', 'Junior :1605', 'Junior :1351', 'Junior :640', 'Junior :701', 'Junior :1877', 'Junior :910', 'Junior :849', 'Junior :1508', 'Junior :1507', 'Junior :627', 'Junior :355', 'Junior :1136', 'Junior :489', 'Junior :626', 'Junior :776', 'Junior :801', 'Junior :845', 'Junior :1036', 'Junior :622', 'Junior :1248', 'Junior :247', 'Junior :1553', 'Junior :1269', 'Junior :1186', 'Junior :1914', 'Junior :293', 'Junior :1980', 'Junior :1567', 'Junior :1367', 'Junior :284', 'Junior :1446', 'Junior :963', 'Junior :652', 'Junior :652', 'Junior :584', 'Junior :1477', 'Junior :848', 'Junior :1053', 'Junior :1128', 'Junior :936', 'Junior :563', 'Junior :330', 'Junior :1348', 'Junior :1100', 'Junior :978', 'Junior :129', 'Junior :211', 'Junior :1705', 'Junior :758', 'Junior :281', 'Junior :946', 'Junior :703', 'Junior :1296', 'Junior :484', 'Junior :1166', 'Junior :1862', 'Junior :1477', 'Junior :509', 'Junior :1579', 'Junior :134', 'Junior :1091', 'Junior :500', 'Junior :319', 'Junior :800', 'Junior :1031', 'Junior :263', 'Junior :1879', 'Junior :966', 'Junior :1269', 'Junior :435', 'Junior :969', 'Junior :1730', 'Junior :1588', 'Junior :882', 'Junior :485', 'Junior :251', 'Junior :1332', 'Junior :1168', 'Junior :1209', 'Junior :607', 'Junior :1208', 'Junior :677', 'Junior :408', 'Junior :991', 'Junior :1497', 'Junior :827', 'Junior :1696', 'Junior :1356', 'Junior :1157', 'Junior :463', 'Junior :1567', 'Junior :978', 'Junior :1362', 'Junior :1659', 'Junior :1790', 'Junior :405', 'Junior :1736', 'Junior :696', 'Junior :1672', 'Junior :538', 'Junior :1473', 'Junior :427', 'Junior :1211', 'Junior :644', 'Junior :1885', 'Junior :1930', 'Junior :784', 'Junior :1183', 'Junior :729', 'Junior :207', 'Junior :294', 'Junior :390', 'Junior :175', 'Junior :1835', 'Junior :1465', 'Junior :1227', 'Junior :1248', 'Junior :536', 'Junior :1494', 'Junior :1583', 'Junior :1291', 'Junior :1749', 'Junior :1146', 'Junior :1919', 'Junior :679', 'Junior :1861', 'Junior :844', 'Junior :187', 'Junior :1923', 'Junior :657', 'Junior :864', 'Junior :1543', 'Junior :339', 'Junior :437', 'Junior :373', 'Junior :515', 'Junior :581', 'Junior :1424', 'Junior :1879', 'Junior :1898', 'Junior :940', 'Junior :1689', 'Junior :1936', 'Junior :1700', 'Junior :669', 'Junior :1816', 'Junior :257', 'Junior :170', 'Junior :710', 'Junior :964', 'Junior :1523', 'Junior :756', 'Junior :1432', 'Junior :1645', 'Junior :1790', 'Junior :170', 'Junior :227', 'Junior :392', 'Junior :1697', 'Junior :823', 'Junior :648', 'Junior :267', 'Junior :1842', 'Junior :1038', 'Junior :915', 'Junior :598', 'Junior :1356', 'Junior :1075', 'Junior :1988', 'Junior :911', 'Junior :1816', 'Junior :1355', 'Junior :368', 'Junior :1889', 'Junior :211', 'Junior :1171', 'Junior :769', 'Junior :758', 'Junior :826', 'Junior :1840', 'Junior :1695', 'Junior :571', 'Junior :1510', 'Junior :408', 'Junior :1868', 'Junior :398', 'Junior :176', 'Junior :893', 'Junior :303', 'Junior :612', 'Junior :232', 'Junior :1914', 'Junior :1229', 'Junior :1857', 'Junior :529', 'Junior :1059', 'Junior :386', 'Junior :1455', 'Junior :670', 'Junior :1147', 'Junior :726', 'Junior :518', 'Junior :1456', 'Junior :1011', 'Junior :1440', 'Junior :899', 'Junior :1591', 'Junior :484', 'Junior :1881', 'Junior :582', 'Junior :1384', 'Junior :752', 'Junior :1314', 'Junior :1500', 'Junior :972', 'Junior :1789', 'Junior :1520', 'Junior :1697', 'Junior :337', 'Junior :353', 'Junior :1503', 'Junior :1304', 'Junior :1443', 'Junior :602', 'Junior :688', 'Junior :1487', 'Junior :306', 'Junior :1162', 'Junior :304', 'Junior :1095', 'Junior :1676', 'Junior :1552', 'Junior :887', 'Junior :1898', 'Junior :584', 'Junior :1781', 'Junior :258', 'Junior :1282', 'Junior :185', 'Junior :416', 'Junior :1797', 'Junior :1089', 'Junior :501', 'Junior :1809', 'Junior :1474', 'Junior :1424', 'Junior :602', 'Junior :1554', 'Junior :1477', 'Junior :1872', 'Junior :1203', 'Junior :1391', 'Junior :237', 'Junior :371', 'Junior :161', 'Junior :1180', 'Junior :1758', 'Junior :1742', 'Junior :558', 'Junior :1517', 'Junior :1460', 'Junior :1454', 'Junior :1189', 'Junior :1107', 'Junior :1770', 'Junior :1249', 'Junior :891', 'Junior :249', 'Junior :456', 'Junior :787', 'Junior :237', 'Junior :1237', 'Junior :1237', 'Junior :578', 'Junior :1464', 'Junior :187', 'Junior :1205', 'Junior :233', 'Junior :1356', 'Junior :1898', 'Junior :516', 'Junior :1238', 'Junior :311', 'Junior :1619', 'Junior :1600', 'Junior :1218', 'Junior :297', 'Junior :1165', 'Junior :1843', 'Junior :1912', 'Junior :451', 'Junior :1765', 'Junior :1484', 'Junior :1260', 'Junior :986', 'Junior :874', 'Junior :889', 'Junior :923', 'Junior :716', 'Junior :544', 'Junior :1788', 'Junior :363', 'Junior :372', 'Junior :1120', 'Junior :952', 'Junior :788', 'Junior :846', 'Junior :188', 'Junior :647', 'Junior :461', 'Junior :103', 'Junior :1703', 'Junior :1566', 'Junior :1671', 'Junior :208', 'Junior :533', 'Junior :759', 'Junior :410', 'Junior :933', 'Junior :263', 'Junior :696', 'Junior :1547', 'Junior :1003', 'Junior :1506', 'Junior :1582', 'Junior :1590', 'Junior :1765', 'Junior :577', 'Junior :1189', 'Junior :306', 'Junior :267', 'Junior :1289', 'Junior :1722', 'Junior :567', 'Junior :871', 'Junior :230', 'Junior :679', 'Junior :1523', 'Junior :220', 'Junior :985', 'Junior :1624', 'Junior :830', 'Junior :1069', 'Junior :706', 'Junior :1978', 'Junior :1379', 'Junior :961', 'Junior :936', 'Junior :471', 'Junior :569', 'Junior :296', 'Junior :1556', 'Junior :731', 'Junior :1255']\n"
     ]
    }
   ],
   "source": [
    "\n",
    "    import random as rn\n",
    "    JRN = 'Junior :'\n",
    "    ITM = 'Intermediate :'\n",
    "    SRN = 'Senior :'\n",
    "    Stafflist =[]\n",
    "    counter = 1\n",
    "    \n",
    "    while counter <= 500:\n",
    "        N = rn.randint(100,2001)\n",
    "        strN = str(N)\n",
    "        Stafflist.append(JRN + strN)\n",
    "        Stafflist.append(ITM + strN)\n",
    "        Stafflist.append(SRN + strN)\n",
    "        counter += 1\n",
    "    junior_staff = list(filter(lambda x : x[0]=='J', Stafflist))\n",
    "    print(junior_staff)"
   ]
  },
  {
   "cell_type": "code",
   "execution_count": null,
   "id": "abfbde5e",
   "metadata": {},
   "outputs": [],
   "source": []
  },
  {
   "cell_type": "code",
   "execution_count": null,
   "id": "34e8ac70",
   "metadata": {},
   "outputs": [],
   "source": []
  }
 ],
 "metadata": {
  "kernelspec": {
   "display_name": "Python 3",
   "language": "python",
   "name": "python3"
  },
  "language_info": {
   "codemirror_mode": {
    "name": "ipython",
    "version": 3
   },
   "file_extension": ".py",
   "mimetype": "text/x-python",
   "name": "python",
   "nbconvert_exporter": "python",
   "pygments_lexer": "ipython3",
   "version": "3.8.8"
  }
 },
 "nbformat": 4,
 "nbformat_minor": 5
}
