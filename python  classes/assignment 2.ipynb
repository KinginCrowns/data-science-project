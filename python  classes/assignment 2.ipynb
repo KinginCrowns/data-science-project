{
 "cells": [
  {
   "cell_type": "code",
   "execution_count": 1,
   "id": "61a2aa96",
   "metadata": {},
   "outputs": [
    {
     "name": "stdout",
     "output_type": "stream",
     "text": [
      "i have 1000 dollars, so i can buy 3 footbal for 450 dollars\n"
     ]
    }
   ],
   "source": [
    "totalmoney = 1000\n",
    "quantity = 3\n",
    "price = 450\n",
    "\n",
    "report ='i have {} dollars, so i can buy {} footbal for {} dollars'\n",
    "print(report.format(totalmoney,quantity,price))"
   ]
  },
  {
   "cell_type": "code",
   "execution_count": 2,
   "id": "291b13f0",
   "metadata": {},
   "outputs": [
    {
     "name": "stdout",
     "output_type": "stream",
     "text": [
      "458.0\n"
     ]
    }
   ],
   "source": [
    "number1 = float(458)\n",
    "print(number1)"
   ]
  },
  {
   "cell_type": "code",
   "execution_count": 55,
   "id": "68a43143",
   "metadata": {},
   "outputs": [
    {
     "name": "stdout",
     "output_type": "stream",
     "text": [
      "the compound interest is 955.0800000000004\n",
      "the total amount is: 5955.08\n"
     ]
    }
   ],
   "source": [
    "principal = 5000\n",
    "rate = 6\n",
    "time = 3\n",
    "total_amount = (compound_interest + principal)\n",
    "compound_interest = principal * ((1 + rate / 100)** time - 1)\n",
    "print(\"the compound interest is\",compound_interest)\n",
    "print(\"the total amount is:\", total_amount)\n"
   ]
  },
  {
   "cell_type": "code",
   "execution_count": 58,
   "id": "7ae01025",
   "metadata": {},
   "outputs": [
    {
     "name": "stdout",
     "output_type": "stream",
     "text": [
      "for the first year\n",
      "the final amount at the first year is 602500.0\n",
      "for the second year\n",
      "the final amount at the second year is 667625.0\n",
      "for the third year\n",
      "the final amount at the third year is 701006.25\n",
      "the total amount at the third year is 701006.25\n",
      "1006.25 is > 700,000  which is the needed amount\n"
     ]
    }
   ],
   "source": [
    "amountneeded = 700000\n",
    "principal = 550000\n",
    "rate = (5 / 100)\n",
    "time = 3\n",
    "n = 1\n",
    "first_deposit = 25000\n",
    "second_deposit = 35000\n",
    "\n",
    "print('for the first year')\n",
    "t = 1\n",
    "\n",
    "principal1 = (principal *((1 + rate / n )** n*t)) + first_deposit\n",
    "print(\"the final amount at the first year is\",principal1)\n",
    "\n",
    "print('for the second year')\n",
    "\n",
    "principal2 = (principal1 *((1 + rate / n )** n*t)) + second_deposit \n",
    "print(\"the final amount at the second year is\",principal2)\n",
    "\n",
    "print('for the third year')\n",
    "\n",
    "principal3 = (principal2 *((1 + rate / n )** n*t))\n",
    "print(\"the final amount at the third year is\",principal3)\n",
    "\n",
    "print(\"the total amount at the third year is\", principal3)\n",
    "\n",
    "print(principal3 - amountneeded,\"is > 700,000  which is the needed amount\")"
   ]
  },
  {
   "cell_type": "code",
   "execution_count": null,
   "id": "7a07c61e",
   "metadata": {},
   "outputs": [],
   "source": []
  }
 ],
 "metadata": {
  "kernelspec": {
   "display_name": "Python 3",
   "language": "python",
   "name": "python3"
  },
  "language_info": {
   "codemirror_mode": {
    "name": "ipython",
    "version": 3
   },
   "file_extension": ".py",
   "mimetype": "text/x-python",
   "name": "python",
   "nbconvert_exporter": "python",
   "pygments_lexer": "ipython3",
   "version": "3.8.8"
  }
 },
 "nbformat": 4,
 "nbformat_minor": 5
}
