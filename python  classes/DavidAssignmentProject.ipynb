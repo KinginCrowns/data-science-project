{
 "cells": [
  {
   "cell_type": "code",
   "execution_count": 7,
   "metadata": {},
   "outputs": [
    {
     "ename": "SyntaxError",
     "evalue": "unexpected character after line continuation character (<ipython-input-7-56eabd233451>, line 9)",
     "output_type": "error",
     "traceback": [
      "\u001b[1;36m  File \u001b[1;32m\"<ipython-input-7-56eabd233451>\"\u001b[1;36m, line \u001b[1;32m9\u001b[0m\n\u001b[1;33m    answer = int(input('How many legs does spider has:  '))\\nques['Q1'] \\\u001b[0m\n\u001b[1;37m                                                                         ^\u001b[0m\n\u001b[1;31mSyntaxError\u001b[0m\u001b[1;31m:\u001b[0m unexpected character after line continuation character\n"
     ]
    }
   ],
   "source": [
    "import datetime\n",
    "scorelist = []\n",
    "timelist = []\n",
    "ques = {'Q1': [8,5,6,9],\n",
    "'Q2': ['Low','Static','High','Machine']\n",
    "}\n",
    "\n",
    "starttime = datetime.datetime.now()\n",
    "answer = int(input('How many legs does spider has:  '))\\n ques['Q1'] \\\n",
    "\n",
    "if answer == ques['Q1'][0]:\n",
    "    scorelist.append(5)\n",
    "else:\n",
    "    scorelist.append(0)\n",
    "answer = input('What level of language is python: ')\n",
    "if answer == ques['Q2'][2]:\n",
    "    scorelist.append(5)\n",
    "else:\n",
    "    scorelist.append(0)\n",
    "stoptime = datetime.datetime.now()\n",
    "\n",
    "\n",
    "diff = stoptime - starttime\n",
    "timelist.append(diff.seconds)\n",
    "print(f'The time it took to answer 5 questions is {sum(scorelist)} in {sum(timelist)}seconds')\n",
    "    "
   ]
  },
  {
   "cell_type": "code",
   "execution_count": null,
   "metadata": {},
   "outputs": [],
   "source": []
  },
  {
   "cell_type": "code",
   "execution_count": null,
   "metadata": {},
   "outputs": [],
   "source": []
  }
 ],
 "metadata": {
  "kernelspec": {
   "display_name": "Python 3",
   "language": "python",
   "name": "python3"
  },
  "language_info": {
   "codemirror_mode": {
    "name": "ipython",
    "version": 3
   },
   "file_extension": ".py",
   "mimetype": "text/x-python",
   "name": "python",
   "nbconvert_exporter": "python",
   "pygments_lexer": "ipython3",
   "version": "3.8.8"
  }
 },
 "nbformat": 4,
 "nbformat_minor": 4
}
