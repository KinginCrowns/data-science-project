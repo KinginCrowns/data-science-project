{
 "cells": [
  {
   "cell_type": "markdown",
   "id": "5ea49859",
   "metadata": {},
   "source": [
    "# STROKE PROJECT"
   ]
  },
  {
   "cell_type": "code",
   "execution_count": 1,
   "id": "5fef1afd",
   "metadata": {},
   "outputs": [],
   "source": [
    "import pandas as pd\n",
    "import numpy as np\n",
    "import matplotlib.pyplot as plt\n",
    "import seaborn as sns\n",
    "\n",
    "from sklearn import preprocessing\n",
    "from sklearn.preprocessing import StandardScaler\n",
    "from imblearn.over_sampling import SMOTE\n",
    "from sklearn.model_selection import train_test_split\n",
    "from sklearn.metrics import accuracy_score\n",
    "from sklearn.metrics import recall_score, confusion_matrix, precision_score, f1_score, classification_report\n",
    "from sklearn.linear_model import LogisticRegression\n",
    "from sklearn.ensemble import RandomForestClassifier\n",
    "from sklearn.ensemble import AdaBoostClassifier\n",
    "from sklearn.ensemble import GradientBoostingClassifier\n",
    "from sklearn.neighbors import KNeighborsClassifier\n"
   ]
  },
  {
   "cell_type": "code",
   "execution_count": 2,
   "id": "ace07f07",
   "metadata": {},
   "outputs": [
    {
     "name": "stdout",
     "output_type": "stream",
     "text": [
      "<class 'pandas.core.frame.DataFrame'>\n",
      "RangeIndex: 5110 entries, 0 to 5109\n",
      "Data columns (total 12 columns):\n",
      " #   Column             Non-Null Count  Dtype  \n",
      "---  ------             --------------  -----  \n",
      " 0   id                 5110 non-null   int64  \n",
      " 1   gender             5110 non-null   object \n",
      " 2   age                5110 non-null   float64\n",
      " 3   hypertension       5110 non-null   int64  \n",
      " 4   heart_disease      5110 non-null   int64  \n",
      " 5   ever_married       5110 non-null   object \n",
      " 6   work_type          5110 non-null   object \n",
      " 7   Residence_type     5110 non-null   object \n",
      " 8   avg_glucose_level  5110 non-null   float64\n",
      " 9   bmi                4909 non-null   float64\n",
      " 10  smoking_status     5110 non-null   object \n",
      " 11  stroke             5110 non-null   int64  \n",
      "dtypes: float64(3), int64(4), object(5)\n",
      "memory usage: 479.2+ KB\n"
     ]
    }
   ],
   "source": [
    "data = pd.read_csv('healthcare-dataset-stroke-data.csv')\n",
    "data.info()"
   ]
  },
  {
   "cell_type": "code",
   "execution_count": 3,
   "id": "a38b05ac",
   "metadata": {},
   "outputs": [
    {
     "data": {
      "text/html": [
       "<div>\n",
       "<style scoped>\n",
       "    .dataframe tbody tr th:only-of-type {\n",
       "        vertical-align: middle;\n",
       "    }\n",
       "\n",
       "    .dataframe tbody tr th {\n",
       "        vertical-align: top;\n",
       "    }\n",
       "\n",
       "    .dataframe thead th {\n",
       "        text-align: right;\n",
       "    }\n",
       "</style>\n",
       "<table border=\"1\" class=\"dataframe\">\n",
       "  <thead>\n",
       "    <tr style=\"text-align: right;\">\n",
       "      <th></th>\n",
       "      <th>id</th>\n",
       "      <th>gender</th>\n",
       "      <th>age</th>\n",
       "      <th>hypertension</th>\n",
       "      <th>heart_disease</th>\n",
       "      <th>ever_married</th>\n",
       "      <th>work_type</th>\n",
       "      <th>Residence_type</th>\n",
       "      <th>avg_glucose_level</th>\n",
       "      <th>bmi</th>\n",
       "      <th>smoking_status</th>\n",
       "      <th>stroke</th>\n",
       "    </tr>\n",
       "  </thead>\n",
       "  <tbody>\n",
       "    <tr>\n",
       "      <th>0</th>\n",
       "      <td>9046</td>\n",
       "      <td>Male</td>\n",
       "      <td>67.0</td>\n",
       "      <td>0</td>\n",
       "      <td>1</td>\n",
       "      <td>Yes</td>\n",
       "      <td>Private</td>\n",
       "      <td>Urban</td>\n",
       "      <td>228.69</td>\n",
       "      <td>36.6</td>\n",
       "      <td>formerly smoked</td>\n",
       "      <td>1</td>\n",
       "    </tr>\n",
       "    <tr>\n",
       "      <th>1</th>\n",
       "      <td>51676</td>\n",
       "      <td>Female</td>\n",
       "      <td>61.0</td>\n",
       "      <td>0</td>\n",
       "      <td>0</td>\n",
       "      <td>Yes</td>\n",
       "      <td>Self-employed</td>\n",
       "      <td>Rural</td>\n",
       "      <td>202.21</td>\n",
       "      <td>NaN</td>\n",
       "      <td>never smoked</td>\n",
       "      <td>1</td>\n",
       "    </tr>\n",
       "    <tr>\n",
       "      <th>2</th>\n",
       "      <td>31112</td>\n",
       "      <td>Male</td>\n",
       "      <td>80.0</td>\n",
       "      <td>0</td>\n",
       "      <td>1</td>\n",
       "      <td>Yes</td>\n",
       "      <td>Private</td>\n",
       "      <td>Rural</td>\n",
       "      <td>105.92</td>\n",
       "      <td>32.5</td>\n",
       "      <td>never smoked</td>\n",
       "      <td>1</td>\n",
       "    </tr>\n",
       "    <tr>\n",
       "      <th>3</th>\n",
       "      <td>60182</td>\n",
       "      <td>Female</td>\n",
       "      <td>49.0</td>\n",
       "      <td>0</td>\n",
       "      <td>0</td>\n",
       "      <td>Yes</td>\n",
       "      <td>Private</td>\n",
       "      <td>Urban</td>\n",
       "      <td>171.23</td>\n",
       "      <td>34.4</td>\n",
       "      <td>smokes</td>\n",
       "      <td>1</td>\n",
       "    </tr>\n",
       "    <tr>\n",
       "      <th>4</th>\n",
       "      <td>1665</td>\n",
       "      <td>Female</td>\n",
       "      <td>79.0</td>\n",
       "      <td>1</td>\n",
       "      <td>0</td>\n",
       "      <td>Yes</td>\n",
       "      <td>Self-employed</td>\n",
       "      <td>Rural</td>\n",
       "      <td>174.12</td>\n",
       "      <td>24.0</td>\n",
       "      <td>never smoked</td>\n",
       "      <td>1</td>\n",
       "    </tr>\n",
       "  </tbody>\n",
       "</table>\n",
       "</div>"
      ],
      "text/plain": [
       "      id  gender   age  hypertension  heart_disease ever_married  \\\n",
       "0   9046    Male  67.0             0              1          Yes   \n",
       "1  51676  Female  61.0             0              0          Yes   \n",
       "2  31112    Male  80.0             0              1          Yes   \n",
       "3  60182  Female  49.0             0              0          Yes   \n",
       "4   1665  Female  79.0             1              0          Yes   \n",
       "\n",
       "       work_type Residence_type  avg_glucose_level   bmi   smoking_status  \\\n",
       "0        Private          Urban             228.69  36.6  formerly smoked   \n",
       "1  Self-employed          Rural             202.21   NaN     never smoked   \n",
       "2        Private          Rural             105.92  32.5     never smoked   \n",
       "3        Private          Urban             171.23  34.4           smokes   \n",
       "4  Self-employed          Rural             174.12  24.0     never smoked   \n",
       "\n",
       "   stroke  \n",
       "0       1  \n",
       "1       1  \n",
       "2       1  \n",
       "3       1  \n",
       "4       1  "
      ]
     },
     "execution_count": 3,
     "metadata": {},
     "output_type": "execute_result"
    }
   ],
   "source": [
    "data.head(5)"
   ]
  },
  {
   "cell_type": "code",
   "execution_count": 4,
   "id": "01db755c",
   "metadata": {},
   "outputs": [],
   "source": [
    "data.drop(['id'], axis=1, inplace = True)"
   ]
  },
  {
   "cell_type": "code",
   "execution_count": 5,
   "id": "2f95d6e5",
   "metadata": {},
   "outputs": [
    {
     "data": {
      "text/plain": [
       "gender                 0\n",
       "age                    0\n",
       "hypertension           0\n",
       "heart_disease          0\n",
       "ever_married           0\n",
       "work_type              0\n",
       "Residence_type         0\n",
       "avg_glucose_level      0\n",
       "bmi                  201\n",
       "smoking_status         0\n",
       "stroke                 0\n",
       "dtype: int64"
      ]
     },
     "execution_count": 5,
     "metadata": {},
     "output_type": "execute_result"
    }
   ],
   "source": [
    "data.isnull().sum()"
   ]
  },
  {
   "cell_type": "code",
   "execution_count": 6,
   "id": "b743a8fb",
   "metadata": {},
   "outputs": [
    {
     "name": "stdout",
     "output_type": "stream",
     "text": [
      "Amount of Patients in Each Age Group\n",
      "Ages 0-10:  507\n",
      "Ages 10-20:  518\n",
      "Ages 20-30:  545\n",
      "Ages 30-40:  674\n",
      "Ages 40-50:  739\n",
      "Ages 50-60:  823\n",
      "Ages 60-70:  594\n",
      "Ages 70-80:  594\n",
      "Ages 80+:  116\n"
     ]
    },
    {
     "data": {
      "image/png": "[encoded data removed]",
      "text/plain": [
       "<Figure size 432x288 with 1 Axes>"
      ]
     },
     "metadata": {
      "needs_background": "light"
     },
     "output_type": "display_data"
    }
   ],
   "source": [
    "plt.hist(data[\"age\"], bins = [0, 10, 20, 30, 40, 50, 60, 70, 80])\n",
    "plt.title(\"Age Distribution\")\n",
    "\n",
    "data_age_groups = data.copy()\n",
    "def age_group(age):\n",
    "    if age >= 0:\n",
    "        if age <= 10:\n",
    "            return \"0-10\"\n",
    "        elif age <= 20:\n",
    "            return \"10-20\"\n",
    "        elif age <= 30:\n",
    "            return \"20-30\"\n",
    "        elif age <= 40:\n",
    "            return \"30-40\"\n",
    "        elif age <= 50:\n",
    "            return \"40-50\"\n",
    "        elif age <= 60:\n",
    "            return \"50-60\"\n",
    "        elif age <= 70:\n",
    "            return \"60-70\"\n",
    "        elif age <= 80:\n",
    "            return \"70-80\"\n",
    "        else:\n",
    "            return \"80+\"\n",
    "    \n",
    "data_age_groups[\"age group\"] = data_age_groups['age'].apply(age_group)\n",
    "\n",
    "print(\"Amount of Patients in Each Age Group\")\n",
    "print(\"Ages 0-10: \", data_age_groups[\"age group\"].value_counts()[\"0-10\"])\n",
    "print(\"Ages 10-20: \", data_age_groups[\"age group\"].value_counts()[\"10-20\"])\n",
    "print(\"Ages 20-30: \", data_age_groups[\"age group\"].value_counts()[\"20-30\"])\n",
    "print(\"Ages 30-40: \", data_age_groups[\"age group\"].value_counts()[\"30-40\"])\n",
    "print(\"Ages 40-50: \", data_age_groups[\"age group\"].value_counts()[\"40-50\"])\n",
    "print(\"Ages 50-60: \", data_age_groups[\"age group\"].value_counts()[\"50-60\"])\n",
    "print(\"Ages 60-70: \", data_age_groups[\"age group\"].value_counts()[\"60-70\"])\n",
    "print(\"Ages 70-80: \", data_age_groups[\"age group\"].value_counts()[\"70-80\"])\n",
    "print(\"Ages 80+: \", data_age_groups[\"age group\"].value_counts()[\"80+\"])"
   ]
  },
  {
   "cell_type": "code",
   "execution_count": 7,
   "id": "91fe99b5",
   "metadata": {},
   "outputs": [
    {
     "data": {
      "image/png": "[encoded data removed]",
      "text/plain": [
       "<Figure size 432x288 with 1 Axes>"
      ]
     },
     "metadata": {
      "needs_background": "light"
     },
     "output_type": "display_data"
    },
    {
     "name": "stdout",
     "output_type": "stream",
     "text": [
      "Percentage of Females:  0.5860246623605402\n",
      "Percentage of Males:  0.41397533763945976\n"
     ]
    }
   ],
   "source": [
    "fig = plt.figure()\n",
    "ax = fig.add_axes([0,0,1,1])\n",
    "gender = [\"Female\", \"Male\"]\n",
    "x = data[\"gender\"].value_counts()['Female']\n",
    "y = data[\"gender\"].value_counts()['Male']\n",
    "\n",
    "counts = [x, y]\n",
    "ax.bar(gender, counts)\n",
    "plt.title(\"Gender Distribution\")\n",
    "plt.show()\n",
    "\n",
    "print(\"Percentage of Females: \", x /(x+y))\n",
    "print(\"Percentage of Males: \", y /(x+y))"
   ]
  },
  {
   "cell_type": "code",
   "execution_count": 8,
   "id": "8ad58c34",
   "metadata": {},
   "outputs": [
    {
     "data": {
      "text/plain": [
       "<matplotlib.legend.Legend at 0x209dce01670>"
      ]
     },
     "execution_count": 8,
     "metadata": {},
     "output_type": "execute_result"
    },
    {
     "data": {
      "image/png": "[encoded data removed]",
      "text/plain": [
       "<Figure size 432x288 with 1 Axes>"
      ]
     },
     "metadata": {
      "needs_background": "light"
     },
     "output_type": "display_data"
    }
   ],
   "source": [
    "sns.countplot(data=data, x='gender', hue='hypertension').set(title=\" Hypertension Distribution\")\n",
    "plt.legend(labels =[\"WITHOUT\",\"WITH\"], title = \"HYPERTENSION\")"
   ]
  },
  {
   "cell_type": "code",
   "execution_count": 9,
   "id": "237f599d",
   "metadata": {},
   "outputs": [
    {
     "data": {
      "text/plain": [
       "<matplotlib.legend.Legend at 0x209dcf61c70>"
      ]
     },
     "execution_count": 9,
     "metadata": {},
     "output_type": "execute_result"
    },
    {
     "data": {
      "image/png": "[encoded data removed]",
      "text/plain": [
       "<Figure size 432x288 with 1 Axes>"
      ]
     },
     "metadata": {
      "needs_background": "light"
     },
     "output_type": "display_data"
    }
   ],
   "source": [
    "sns.countplot(data=data, x='gender', hue='heart_disease').set(title=\" Heart Disease Distribution\")\n",
    "plt.legend(labels =[\"WITHOUT\",\"WITH\"], title = \"Heart Disease\")"
   ]
  },
  {
   "cell_type": "code",
   "execution_count": 10,
   "id": "88826723",
   "metadata": {},
   "outputs": [
    {
     "name": "stdout",
     "output_type": "stream",
     "text": [
      "Private:  2925\n",
      "Self Employed:  819\n",
      "Government Job:  657\n",
      "Children:  687\n",
      "Never Worked:  22\n"
     ]
    },
    {
     "data": {
      "image/png": "[encoded data removed]",
      "text/plain": [
       "<Figure size 432x288 with 1 Axes>"
      ]
     },
     "metadata": {
      "needs_background": "light"
     },
     "output_type": "display_data"
    }
   ],
   "source": [
    "plt.hist(data[\"work_type\"])\n",
    "plt.title(\"Type of Work Distribution\")\n",
    "\n",
    "private = data[\"work_type\"].value_counts()[\"Private\"]\n",
    "self_employed = data[\"work_type\"].value_counts()[\"Self-employed\"]\n",
    "govt_job = data[\"work_type\"].value_counts()[\"Govt_job\"]\n",
    "children = data[\"work_type\"].value_counts()[\"children\"]\n",
    "never_worked = data[\"work_type\"].value_counts()[\"Never_worked\"]\n",
    "\n",
    "print(\"Private: \", private)\n",
    "print(\"Self Employed: \", self_employed)\n",
    "print(\"Government Job: \", govt_job)\n",
    "print(\"Children: \", children)\n",
    "print(\"Never Worked: \", never_worked)"
   ]
  },
  {
   "cell_type": "code",
   "execution_count": 11,
   "id": "8701d379",
   "metadata": {},
   "outputs": [
    {
     "data": {
      "text/plain": [
       "Text(0.5, 1.0, 'Smoking Status Distribution')"
      ]
     },
     "execution_count": 11,
     "metadata": {},
     "output_type": "execute_result"
    },
    {
     "data": {
      "image/png": "[encoded data removed]",
      "text/plain": [
       "<Figure size 432x288 with 1 Axes>"
      ]
     },
     "metadata": {
      "needs_background": "light"
     },
     "output_type": "display_data"
    }
   ],
   "source": [
    "plt.hist(data[\"smoking_status\"])\n",
    "plt.title(\"Smoking Status Distribution\")"
   ]
  },
  {
   "cell_type": "code",
   "execution_count": 12,
   "id": "d2abf037",
   "metadata": {},
   "outputs": [
    {
     "data": {
      "text/plain": [
       "gender                object\n",
       "age                  float64\n",
       "hypertension           int64\n",
       "heart_disease          int64\n",
       "ever_married          object\n",
       "work_type             object\n",
       "Residence_type        object\n",
       "avg_glucose_level    float64\n",
       "bmi                  float64\n",
       "smoking_status        object\n",
       "stroke                 int64\n",
       "dtype: object"
      ]
     },
     "execution_count": 12,
     "metadata": {},
     "output_type": "execute_result"
    }
   ],
   "source": [
    "data.dtypes"
   ]
  },
  {
   "cell_type": "code",
   "execution_count": 13,
   "id": "5e0c2f21",
   "metadata": {},
   "outputs": [],
   "source": [
    "encoder = preprocessing.LabelEncoder()\n",
    "data[\"gender\"] = encoder.fit_transform(data[\"gender\"])\n",
    "data[\"ever_married\"] = encoder.fit_transform(data[\"ever_married\"])\n",
    "data[\"Residence_type\"] = encoder.fit_transform(data[\"Residence_type\"])"
   ]
  },
  {
   "cell_type": "code",
   "execution_count": 14,
   "id": "d6523349",
   "metadata": {},
   "outputs": [
    {
     "data": {
      "text/html": [
       "<div>\n",
       "<style scoped>\n",
       "    .dataframe tbody tr th:only-of-type {\n",
       "        vertical-align: middle;\n",
       "    }\n",
       "\n",
       "    .dataframe tbody tr th {\n",
       "        vertical-align: top;\n",
       "    }\n",
       "\n",
       "    .dataframe thead th {\n",
       "        text-align: right;\n",
       "    }\n",
       "</style>\n",
       "<table border=\"1\" class=\"dataframe\">\n",
       "  <thead>\n",
       "    <tr style=\"text-align: right;\">\n",
       "      <th></th>\n",
       "      <th>gender</th>\n",
       "      <th>age</th>\n",
       "      <th>hypertension</th>\n",
       "      <th>heart_disease</th>\n",
       "      <th>ever_married</th>\n",
       "      <th>Residence_type</th>\n",
       "      <th>avg_glucose_level</th>\n",
       "      <th>bmi</th>\n",
       "      <th>stroke</th>\n",
       "      <th>work_type_Govt_job</th>\n",
       "      <th>work_type_Never_worked</th>\n",
       "      <th>work_type_Private</th>\n",
       "      <th>work_type_Self-employed</th>\n",
       "      <th>work_type_children</th>\n",
       "      <th>smoking_status_Unknown</th>\n",
       "      <th>smoking_status_formerly smoked</th>\n",
       "      <th>smoking_status_never smoked</th>\n",
       "      <th>smoking_status_smokes</th>\n",
       "    </tr>\n",
       "  </thead>\n",
       "  <tbody>\n",
       "    <tr>\n",
       "      <th>0</th>\n",
       "      <td>1</td>\n",
       "      <td>67.0</td>\n",
       "      <td>0</td>\n",
       "      <td>1</td>\n",
       "      <td>1</td>\n",
       "      <td>1</td>\n",
       "      <td>228.69</td>\n",
       "      <td>36.6</td>\n",
       "      <td>1</td>\n",
       "      <td>0</td>\n",
       "      <td>0</td>\n",
       "      <td>1</td>\n",
       "      <td>0</td>\n",
       "      <td>0</td>\n",
       "      <td>0</td>\n",
       "      <td>1</td>\n",
       "      <td>0</td>\n",
       "      <td>0</td>\n",
       "    </tr>\n",
       "    <tr>\n",
       "      <th>1</th>\n",
       "      <td>0</td>\n",
       "      <td>61.0</td>\n",
       "      <td>0</td>\n",
       "      <td>0</td>\n",
       "      <td>1</td>\n",
       "      <td>0</td>\n",
       "      <td>202.21</td>\n",
       "      <td>NaN</td>\n",
       "      <td>1</td>\n",
       "      <td>0</td>\n",
       "      <td>0</td>\n",
       "      <td>0</td>\n",
       "      <td>1</td>\n",
       "      <td>0</td>\n",
       "      <td>0</td>\n",
       "      <td>0</td>\n",
       "      <td>1</td>\n",
       "      <td>0</td>\n",
       "    </tr>\n",
       "    <tr>\n",
       "      <th>2</th>\n",
       "      <td>1</td>\n",
       "      <td>80.0</td>\n",
       "      <td>0</td>\n",
       "      <td>1</td>\n",
       "      <td>1</td>\n",
       "      <td>0</td>\n",
       "      <td>105.92</td>\n",
       "      <td>32.5</td>\n",
       "      <td>1</td>\n",
       "      <td>0</td>\n",
       "      <td>0</td>\n",
       "      <td>1</td>\n",
       "      <td>0</td>\n",
       "      <td>0</td>\n",
       "      <td>0</td>\n",
       "      <td>0</td>\n",
       "      <td>1</td>\n",
       "      <td>0</td>\n",
       "    </tr>\n",
       "    <tr>\n",
       "      <th>3</th>\n",
       "      <td>0</td>\n",
       "      <td>49.0</td>\n",
       "      <td>0</td>\n",
       "      <td>0</td>\n",
       "      <td>1</td>\n",
       "      <td>1</td>\n",
       "      <td>171.23</td>\n",
       "      <td>34.4</td>\n",
       "      <td>1</td>\n",
       "      <td>0</td>\n",
       "      <td>0</td>\n",
       "      <td>1</td>\n",
       "      <td>0</td>\n",
       "      <td>0</td>\n",
       "      <td>0</td>\n",
       "      <td>0</td>\n",
       "      <td>0</td>\n",
       "      <td>1</td>\n",
       "    </tr>\n",
       "    <tr>\n",
       "      <th>4</th>\n",
       "      <td>0</td>\n",
       "      <td>79.0</td>\n",
       "      <td>1</td>\n",
       "      <td>0</td>\n",
       "      <td>1</td>\n",
       "      <td>0</td>\n",
       "      <td>174.12</td>\n",
       "      <td>24.0</td>\n",
       "      <td>1</td>\n",
       "      <td>0</td>\n",
       "      <td>0</td>\n",
       "      <td>0</td>\n",
       "      <td>1</td>\n",
       "      <td>0</td>\n",
       "      <td>0</td>\n",
       "      <td>0</td>\n",
       "      <td>1</td>\n",
       "      <td>0</td>\n",
       "    </tr>\n",
       "  </tbody>\n",
       "</table>\n",
       "</div>"
      ],
      "text/plain": [
       "   gender   age  hypertension  heart_disease  ever_married  Residence_type  \\\n",
       "0       1  67.0             0              1             1               1   \n",
       "1       0  61.0             0              0             1               0   \n",
       "2       1  80.0             0              1             1               0   \n",
       "3       0  49.0             0              0             1               1   \n",
       "4       0  79.0             1              0             1               0   \n",
       "\n",
       "   avg_glucose_level   bmi  stroke  work_type_Govt_job  \\\n",
       "0             228.69  36.6       1                   0   \n",
       "1             202.21   NaN       1                   0   \n",
       "2             105.92  32.5       1                   0   \n",
       "3             171.23  34.4       1                   0   \n",
       "4             174.12  24.0       1                   0   \n",
       "\n",
       "   work_type_Never_worked  work_type_Private  work_type_Self-employed  \\\n",
       "0                       0                  1                        0   \n",
       "1                       0                  0                        1   \n",
       "2                       0                  1                        0   \n",
       "3                       0                  1                        0   \n",
       "4                       0                  0                        1   \n",
       "\n",
       "   work_type_children  smoking_status_Unknown  smoking_status_formerly smoked  \\\n",
       "0                   0                       0                               1   \n",
       "1                   0                       0                               0   \n",
       "2                   0                       0                               0   \n",
       "3                   0                       0                               0   \n",
       "4                   0                       0                               0   \n",
       "\n",
       "   smoking_status_never smoked  smoking_status_smokes  \n",
       "0                            0                      0  \n",
       "1                            1                      0  \n",
       "2                            1                      0  \n",
       "3                            0                      1  \n",
       "4                            1                      0  "
      ]
     },
     "execution_count": 14,
     "metadata": {},
     "output_type": "execute_result"
    }
   ],
   "source": [
    "data = pd.get_dummies(data)\n",
    "data.head(5)"
   ]
  },
  {
   "cell_type": "code",
   "execution_count": 15,
   "id": "4d6bf843",
   "metadata": {},
   "outputs": [
    {
     "data": {
      "text/html": [
       "<div>\n",
       "<style scoped>\n",
       "    .dataframe tbody tr th:only-of-type {\n",
       "        vertical-align: middle;\n",
       "    }\n",
       "\n",
       "    .dataframe tbody tr th {\n",
       "        vertical-align: top;\n",
       "    }\n",
       "\n",
       "    .dataframe thead th {\n",
       "        text-align: right;\n",
       "    }\n",
       "</style>\n",
       "<table border=\"1\" class=\"dataframe\">\n",
       "  <thead>\n",
       "    <tr style=\"text-align: right;\">\n",
       "      <th></th>\n",
       "      <th>gender</th>\n",
       "      <th>age</th>\n",
       "      <th>hypertension</th>\n",
       "      <th>heart_disease</th>\n",
       "      <th>ever_married</th>\n",
       "      <th>Residence_type</th>\n",
       "      <th>avg_glucose_level</th>\n",
       "      <th>bmi</th>\n",
       "      <th>stroke</th>\n",
       "      <th>work_type_Govt_job</th>\n",
       "      <th>work_type_Never_worked</th>\n",
       "      <th>work_type_Private</th>\n",
       "      <th>work_type_Self-employed</th>\n",
       "      <th>work_type_children</th>\n",
       "      <th>smoking_status_Unknown</th>\n",
       "      <th>smoking_status_formerly smoked</th>\n",
       "      <th>smoking_status_never smoked</th>\n",
       "      <th>smoking_status_smokes</th>\n",
       "    </tr>\n",
       "  </thead>\n",
       "  <tbody>\n",
       "    <tr>\n",
       "      <th>0</th>\n",
       "      <td>1.188073</td>\n",
       "      <td>1.051434</td>\n",
       "      <td>-0.328602</td>\n",
       "      <td>4.185032</td>\n",
       "      <td>0.723884</td>\n",
       "      <td>0.984080</td>\n",
       "      <td>2.706375</td>\n",
       "      <td>0.981345</td>\n",
       "      <td>4.418381</td>\n",
       "      <td>-0.384111</td>\n",
       "      <td>-0.065756</td>\n",
       "      <td>0.864297</td>\n",
       "      <td>-0.436881</td>\n",
       "      <td>-0.394112</td>\n",
       "      <td>-0.658011</td>\n",
       "      <td>2.184951</td>\n",
       "      <td>-0.766774</td>\n",
       "      <td>-0.427313</td>\n",
       "    </tr>\n",
       "    <tr>\n",
       "      <th>1</th>\n",
       "      <td>-0.840344</td>\n",
       "      <td>0.786070</td>\n",
       "      <td>-0.328602</td>\n",
       "      <td>-0.238947</td>\n",
       "      <td>0.723884</td>\n",
       "      <td>-1.016178</td>\n",
       "      <td>2.121559</td>\n",
       "      <td>NaN</td>\n",
       "      <td>4.418381</td>\n",
       "      <td>-0.384111</td>\n",
       "      <td>-0.065756</td>\n",
       "      <td>-1.157010</td>\n",
       "      <td>2.288955</td>\n",
       "      <td>-0.394112</td>\n",
       "      <td>-0.658011</td>\n",
       "      <td>-0.457676</td>\n",
       "      <td>1.304165</td>\n",
       "      <td>-0.427313</td>\n",
       "    </tr>\n",
       "    <tr>\n",
       "      <th>2</th>\n",
       "      <td>1.188073</td>\n",
       "      <td>1.626390</td>\n",
       "      <td>-0.328602</td>\n",
       "      <td>4.185032</td>\n",
       "      <td>0.723884</td>\n",
       "      <td>-1.016178</td>\n",
       "      <td>-0.005028</td>\n",
       "      <td>0.459269</td>\n",
       "      <td>4.418381</td>\n",
       "      <td>-0.384111</td>\n",
       "      <td>-0.065756</td>\n",
       "      <td>0.864297</td>\n",
       "      <td>-0.436881</td>\n",
       "      <td>-0.394112</td>\n",
       "      <td>-0.658011</td>\n",
       "      <td>-0.457676</td>\n",
       "      <td>1.304165</td>\n",
       "      <td>-0.427313</td>\n",
       "    </tr>\n",
       "    <tr>\n",
       "      <th>3</th>\n",
       "      <td>-0.840344</td>\n",
       "      <td>0.255342</td>\n",
       "      <td>-0.328602</td>\n",
       "      <td>-0.238947</td>\n",
       "      <td>0.723884</td>\n",
       "      <td>0.984080</td>\n",
       "      <td>1.437358</td>\n",
       "      <td>0.701207</td>\n",
       "      <td>4.418381</td>\n",
       "      <td>-0.384111</td>\n",
       "      <td>-0.065756</td>\n",
       "      <td>0.864297</td>\n",
       "      <td>-0.436881</td>\n",
       "      <td>-0.394112</td>\n",
       "      <td>-0.658011</td>\n",
       "      <td>-0.457676</td>\n",
       "      <td>-0.766774</td>\n",
       "      <td>2.340204</td>\n",
       "    </tr>\n",
       "    <tr>\n",
       "      <th>4</th>\n",
       "      <td>-0.840344</td>\n",
       "      <td>1.582163</td>\n",
       "      <td>3.043196</td>\n",
       "      <td>-0.238947</td>\n",
       "      <td>0.723884</td>\n",
       "      <td>-1.016178</td>\n",
       "      <td>1.501184</td>\n",
       "      <td>-0.623083</td>\n",
       "      <td>4.418381</td>\n",
       "      <td>-0.384111</td>\n",
       "      <td>-0.065756</td>\n",
       "      <td>-1.157010</td>\n",
       "      <td>2.288955</td>\n",
       "      <td>-0.394112</td>\n",
       "      <td>-0.658011</td>\n",
       "      <td>-0.457676</td>\n",
       "      <td>1.304165</td>\n",
       "      <td>-0.427313</td>\n",
       "    </tr>\n",
       "    <tr>\n",
       "      <th>...</th>\n",
       "      <td>...</td>\n",
       "      <td>...</td>\n",
       "      <td>...</td>\n",
       "      <td>...</td>\n",
       "      <td>...</td>\n",
       "      <td>...</td>\n",
       "      <td>...</td>\n",
       "      <td>...</td>\n",
       "      <td>...</td>\n",
       "      <td>...</td>\n",
       "      <td>...</td>\n",
       "      <td>...</td>\n",
       "      <td>...</td>\n",
       "      <td>...</td>\n",
       "      <td>...</td>\n",
       "      <td>...</td>\n",
       "      <td>...</td>\n",
       "      <td>...</td>\n",
       "    </tr>\n",
       "    <tr>\n",
       "      <th>5105</th>\n",
       "      <td>-0.840344</td>\n",
       "      <td>1.626390</td>\n",
       "      <td>3.043196</td>\n",
       "      <td>-0.238947</td>\n",
       "      <td>0.723884</td>\n",
       "      <td>0.984080</td>\n",
       "      <td>-0.494658</td>\n",
       "      <td>NaN</td>\n",
       "      <td>-0.226327</td>\n",
       "      <td>-0.384111</td>\n",
       "      <td>-0.065756</td>\n",
       "      <td>0.864297</td>\n",
       "      <td>-0.436881</td>\n",
       "      <td>-0.394112</td>\n",
       "      <td>-0.658011</td>\n",
       "      <td>-0.457676</td>\n",
       "      <td>1.304165</td>\n",
       "      <td>-0.427313</td>\n",
       "    </tr>\n",
       "    <tr>\n",
       "      <th>5106</th>\n",
       "      <td>-0.840344</td>\n",
       "      <td>1.670617</td>\n",
       "      <td>-0.328602</td>\n",
       "      <td>-0.238947</td>\n",
       "      <td>0.723884</td>\n",
       "      <td>0.984080</td>\n",
       "      <td>0.420775</td>\n",
       "      <td>1.414286</td>\n",
       "      <td>-0.226327</td>\n",
       "      <td>-0.384111</td>\n",
       "      <td>-0.065756</td>\n",
       "      <td>-1.157010</td>\n",
       "      <td>2.288955</td>\n",
       "      <td>-0.394112</td>\n",
       "      <td>-0.658011</td>\n",
       "      <td>-0.457676</td>\n",
       "      <td>1.304165</td>\n",
       "      <td>-0.427313</td>\n",
       "    </tr>\n",
       "    <tr>\n",
       "      <th>5107</th>\n",
       "      <td>-0.840344</td>\n",
       "      <td>-0.363842</td>\n",
       "      <td>-0.328602</td>\n",
       "      <td>-0.238947</td>\n",
       "      <td>0.723884</td>\n",
       "      <td>-1.016178</td>\n",
       "      <td>-0.511443</td>\n",
       "      <td>0.217332</td>\n",
       "      <td>-0.226327</td>\n",
       "      <td>-0.384111</td>\n",
       "      <td>-0.065756</td>\n",
       "      <td>-1.157010</td>\n",
       "      <td>2.288955</td>\n",
       "      <td>-0.394112</td>\n",
       "      <td>-0.658011</td>\n",
       "      <td>-0.457676</td>\n",
       "      <td>1.304165</td>\n",
       "      <td>-0.427313</td>\n",
       "    </tr>\n",
       "    <tr>\n",
       "      <th>5108</th>\n",
       "      <td>1.188073</td>\n",
       "      <td>0.343796</td>\n",
       "      <td>-0.328602</td>\n",
       "      <td>-0.238947</td>\n",
       "      <td>0.723884</td>\n",
       "      <td>-1.016178</td>\n",
       "      <td>1.328257</td>\n",
       "      <td>-0.419346</td>\n",
       "      <td>-0.226327</td>\n",
       "      <td>-0.384111</td>\n",
       "      <td>-0.065756</td>\n",
       "      <td>0.864297</td>\n",
       "      <td>-0.436881</td>\n",
       "      <td>-0.394112</td>\n",
       "      <td>-0.658011</td>\n",
       "      <td>2.184951</td>\n",
       "      <td>-0.766774</td>\n",
       "      <td>-0.427313</td>\n",
       "    </tr>\n",
       "    <tr>\n",
       "      <th>5109</th>\n",
       "      <td>-0.840344</td>\n",
       "      <td>0.034205</td>\n",
       "      <td>-0.328602</td>\n",
       "      <td>-0.238947</td>\n",
       "      <td>0.723884</td>\n",
       "      <td>0.984080</td>\n",
       "      <td>-0.460867</td>\n",
       "      <td>-0.342945</td>\n",
       "      <td>-0.226327</td>\n",
       "      <td>2.603417</td>\n",
       "      <td>-0.065756</td>\n",
       "      <td>-1.157010</td>\n",
       "      <td>-0.436881</td>\n",
       "      <td>-0.394112</td>\n",
       "      <td>1.519732</td>\n",
       "      <td>-0.457676</td>\n",
       "      <td>-0.766774</td>\n",
       "      <td>-0.427313</td>\n",
       "    </tr>\n",
       "  </tbody>\n",
       "</table>\n",
       "<p>5110 rows × 18 columns</p>\n",
       "</div>"
      ],
      "text/plain": [
       "        gender       age  hypertension  heart_disease  ever_married  \\\n",
       "0     1.188073  1.051434     -0.328602       4.185032      0.723884   \n",
       "1    -0.840344  0.786070     -0.328602      -0.238947      0.723884   \n",
       "2     1.188073  1.626390     -0.328602       4.185032      0.723884   \n",
       "3    -0.840344  0.255342     -0.328602      -0.238947      0.723884   \n",
       "4    -0.840344  1.582163      3.043196      -0.238947      0.723884   \n",
       "...        ...       ...           ...            ...           ...   \n",
       "5105 -0.840344  1.626390      3.043196      -0.238947      0.723884   \n",
       "5106 -0.840344  1.670617     -0.328602      -0.238947      0.723884   \n",
       "5107 -0.840344 -0.363842     -0.328602      -0.238947      0.723884   \n",
       "5108  1.188073  0.343796     -0.328602      -0.238947      0.723884   \n",
       "5109 -0.840344  0.034205     -0.328602      -0.238947      0.723884   \n",
       "\n",
       "      Residence_type  avg_glucose_level       bmi    stroke  \\\n",
       "0           0.984080           2.706375  0.981345  4.418381   \n",
       "1          -1.016178           2.121559       NaN  4.418381   \n",
       "2          -1.016178          -0.005028  0.459269  4.418381   \n",
       "3           0.984080           1.437358  0.701207  4.418381   \n",
       "4          -1.016178           1.501184 -0.623083  4.418381   \n",
       "...              ...                ...       ...       ...   \n",
       "5105        0.984080          -0.494658       NaN -0.226327   \n",
       "5106        0.984080           0.420775  1.414286 -0.226327   \n",
       "5107       -1.016178          -0.511443  0.217332 -0.226327   \n",
       "5108       -1.016178           1.328257 -0.419346 -0.226327   \n",
       "5109        0.984080          -0.460867 -0.342945 -0.226327   \n",
       "\n",
       "      work_type_Govt_job  work_type_Never_worked  work_type_Private  \\\n",
       "0              -0.384111               -0.065756           0.864297   \n",
       "1              -0.384111               -0.065756          -1.157010   \n",
       "2              -0.384111               -0.065756           0.864297   \n",
       "3              -0.384111               -0.065756           0.864297   \n",
       "4              -0.384111               -0.065756          -1.157010   \n",
       "...                  ...                     ...                ...   \n",
       "5105           -0.384111               -0.065756           0.864297   \n",
       "5106           -0.384111               -0.065756          -1.157010   \n",
       "5107           -0.384111               -0.065756          -1.157010   \n",
       "5108           -0.384111               -0.065756           0.864297   \n",
       "5109            2.603417               -0.065756          -1.157010   \n",
       "\n",
       "      work_type_Self-employed  work_type_children  smoking_status_Unknown  \\\n",
       "0                   -0.436881           -0.394112               -0.658011   \n",
       "1                    2.288955           -0.394112               -0.658011   \n",
       "2                   -0.436881           -0.394112               -0.658011   \n",
       "3                   -0.436881           -0.394112               -0.658011   \n",
       "4                    2.288955           -0.394112               -0.658011   \n",
       "...                       ...                 ...                     ...   \n",
       "5105                -0.436881           -0.394112               -0.658011   \n",
       "5106                 2.288955           -0.394112               -0.658011   \n",
       "5107                 2.288955           -0.394112               -0.658011   \n",
       "5108                -0.436881           -0.394112               -0.658011   \n",
       "5109                -0.436881           -0.394112                1.519732   \n",
       "\n",
       "      smoking_status_formerly smoked  smoking_status_never smoked  \\\n",
       "0                           2.184951                    -0.766774   \n",
       "1                          -0.457676                     1.304165   \n",
       "2                          -0.457676                     1.304165   \n",
       "3                          -0.457676                    -0.766774   \n",
       "4                          -0.457676                     1.304165   \n",
       "...                              ...                          ...   \n",
       "5105                       -0.457676                     1.304165   \n",
       "5106                       -0.457676                     1.304165   \n",
       "5107                       -0.457676                     1.304165   \n",
       "5108                        2.184951                    -0.766774   \n",
       "5109                       -0.457676                    -0.766774   \n",
       "\n",
       "      smoking_status_smokes  \n",
       "0                 -0.427313  \n",
       "1                 -0.427313  \n",
       "2                 -0.427313  \n",
       "3                  2.340204  \n",
       "4                 -0.427313  \n",
       "...                     ...  \n",
       "5105              -0.427313  \n",
       "5106              -0.427313  \n",
       "5107              -0.427313  \n",
       "5108              -0.427313  \n",
       "5109              -0.427313  \n",
       "\n",
       "[5110 rows x 18 columns]"
      ]
     },
     "execution_count": 15,
     "metadata": {},
     "output_type": "execute_result"
    }
   ],
   "source": [
    "new_data = pd.DataFrame(StandardScaler().fit_transform(data), columns=data.columns, index=data.index)\n",
    "\n",
    "new_data"
   ]
  },
  {
   "cell_type": "code",
   "execution_count": 16,
   "id": "0b0a0380",
   "metadata": {},
   "outputs": [],
   "source": [
    "x_vars = data.drop(data.columns[np.isnan(data).any()],axis =1)\n",
    "y = data[\"stroke\"]\n",
    "\n",
    "smote = SMOTE(random_state = 101)\n",
    "x_sm, y_sm = smote.fit_resample(x_vars,y)"
   ]
  },
  {
   "cell_type": "code",
   "execution_count": 17,
   "id": "544d311f",
   "metadata": {},
   "outputs": [],
   "source": [
    "x_train, x_test, y_train, y_test = train_test_split(x_sm, y_sm, test_size = 0.2, random_state = 42)\n",
    "scaler = StandardScaler()\n",
    "scaler.fit(x_train)\n",
    "x_train = scaler.transform(x_train)\n",
    "x_test = scaler.transform(x_test)"
   ]
  },
  {
   "cell_type": "code",
   "execution_count": 18,
   "id": "e24afda2",
   "metadata": {},
   "outputs": [
    {
     "name": "stdout",
     "output_type": "stream",
     "text": [
      "Accuracy:  1.0\n",
      "              precision    recall  f1-score   support\n",
      "\n",
      "           0       1.00      1.00      1.00       975\n",
      "           1       1.00      1.00      1.00       970\n",
      "\n",
      "    accuracy                           1.00      1945\n",
      "   macro avg       1.00      1.00      1.00      1945\n",
      "weighted avg       1.00      1.00      1.00      1945\n",
      "\n"
     ]
    }
   ],
   "source": [
    "lreg = LogisticRegression()\n",
    "lreg.fit(x_train, y_train)\n",
    "lreg_preds = lreg.predict(x_test)\n",
    "accuracy = lreg.score(x_test, y_test)\n",
    "print(\"Accuracy: \", accuracy)\n",
    "print(classification_report(y_test, lreg_preds))"
   ]
  },
  {
   "cell_type": "code",
   "execution_count": 19,
   "id": "a4f037a1",
   "metadata": {},
   "outputs": [],
   "source": [
    "from sklearn.metrics import classification_report,confusion_matrix"
   ]
  },
  {
   "cell_type": "code",
   "execution_count": 21,
   "id": "1a02614d",
   "metadata": {},
   "outputs": [
    {
     "data": {
      "text/plain": [
       "[Text(0, 0.5, 'no_stroke'), Text(0, 1.5, 'stroke')]"
      ]
     },
     "execution_count": 21,
     "metadata": {},
     "output_type": "execute_result"
    },
    {
     "data": {
      "image/png": "[encoded data removed]",
      "text/plain": [
       "<Figure size 432x288 with 2 Axes>"
      ]
     },
     "metadata": {
      "needs_background": "light"
     },
     "output_type": "display_data"
    }
   ],
   "source": [
    "cm = confusion_matrix(y_test,lreg_preds)\n",
    "ax= plt.subplot()\n",
    "sns.heatmap(cm,annot = True,fmt ='0.7g',ax=ax)\n",
    "ax.xaxis.set_ticklabels(['no_stroke','stroke'])\n",
    "ax.yaxis.set_ticklabels(['no_stroke','stroke'])"
   ]
  },
  {
   "cell_type": "code",
   "execution_count": 22,
   "id": "e8ec0584",
   "metadata": {},
   "outputs": [
    {
     "name": "stdout",
     "output_type": "stream",
     "text": [
      "Accuracy:  1.0\n"
     ]
    }
   ],
   "source": [
    "rfc = RandomForestClassifier()\n",
    "rfc.fit(x_train, y_train)\n",
    "rfc_preds = rfc.predict(x_test)\n",
    "accuracy = accuracy_score(y_test, rfc_preds)\n",
    "print(\"Accuracy: \", accuracy)"
   ]
  },
  {
   "cell_type": "code",
   "execution_count": 26,
   "id": "2243deab",
   "metadata": {},
   "outputs": [
    {
     "data": {
      "text/plain": [
       "[Text(0, 0.5, 'no_stroke'), Text(0, 1.5, 'stroke')]"
      ]
     },
     "execution_count": 26,
     "metadata": {},
     "output_type": "execute_result"
    },
    {
     "data": {
      "image/png": "[encoded data removed]",
      "text/plain": [
       "<Figure size 432x288 with 2 Axes>"
      ]
     },
     "metadata": {
      "needs_background": "light"
     },
     "output_type": "display_data"
    }
   ],
   "source": [
    "cm = confusion_matrix(y_test,rfc_preds)\n",
    "ax= plt.subplot()\n",
    "sns.heatmap(cm,annot = True,fmt ='0.7g',ax=ax)\n",
    "ax.xaxis.set_ticklabels(['no_stroke','stroke'])\n",
    "ax.yaxis.set_ticklabels(['no_stroke','stroke'])"
   ]
  },
  {
   "cell_type": "code",
   "execution_count": 23,
   "id": "7956fa39",
   "metadata": {},
   "outputs": [
    {
     "name": "stdout",
     "output_type": "stream",
     "text": [
      "Accuracy:  1.0\n"
     ]
    }
   ],
   "source": [
    "abc = AdaBoostClassifier()\n",
    "abc.fit(x_train, y_train)\n",
    "abc_preds = abc.predict(x_test)\n",
    "accuracy = accuracy_score(y_test, abc_preds)\n",
    "print(\"Accuracy: \", accuracy)"
   ]
  },
  {
   "cell_type": "code",
   "execution_count": 27,
   "id": "5fb76a3f",
   "metadata": {},
   "outputs": [
    {
     "data": {
      "text/plain": [
       "[Text(0, 0.5, 'no_stroke'), Text(0, 1.5, 'stroke')]"
      ]
     },
     "execution_count": 27,
     "metadata": {},
     "output_type": "execute_result"
    },
    {
     "data": {
      "image/png": "[encoded data removed]",
      "text/plain": [
       "<Figure size 432x288 with 2 Axes>"
      ]
     },
     "metadata": {
      "needs_background": "light"
     },
     "output_type": "display_data"
    }
   ],
   "source": [
    "cm = confusion_matrix(y_test,abc_preds)\n",
    "ax= plt.subplot()\n",
    "sns.heatmap(cm,annot = True,fmt ='0.7g',ax=ax)\n",
    "ax.xaxis.set_ticklabels(['no_stroke','stroke'])\n",
    "ax.yaxis.set_ticklabels(['no_stroke','stroke'])"
   ]
  },
  {
   "cell_type": "code",
   "execution_count": 24,
   "id": "331b8c51",
   "metadata": {},
   "outputs": [
    {
     "name": "stdout",
     "output_type": "stream",
     "text": [
      "Accuracy:  1.0\n"
     ]
    }
   ],
   "source": [
    "gbc = GradientBoostingClassifier()\n",
    "gbc.fit(x_train, y_train)\n",
    "gbc_preds = abc.predict(x_test)\n",
    "accuracy = accuracy_score(y_test, gbc_preds)\n",
    "print(\"Accuracy: \", accuracy)"
   ]
  },
  {
   "cell_type": "code",
   "execution_count": 28,
   "id": "e9119598",
   "metadata": {},
   "outputs": [
    {
     "data": {
      "text/plain": [
       "[Text(0, 0.5, 'no_stroke'), Text(0, 1.5, 'stroke')]"
      ]
     },
     "execution_count": 28,
     "metadata": {},
     "output_type": "execute_result"
    },
    {
     "data": {
      "image/png": "[encoded data removed]",
      "text/plain": [
       "<Figure size 432x288 with 2 Axes>"
      ]
     },
     "metadata": {
      "needs_background": "light"
     },
     "output_type": "display_data"
    }
   ],
   "source": [
    "cm = confusion_matrix(y_test,gbc_preds)\n",
    "ax= plt.subplot()\n",
    "sns.heatmap(cm,annot = True,fmt ='0.7g',ax=ax)\n",
    "ax.xaxis.set_ticklabels(['no_stroke','stroke'])\n",
    "ax.yaxis.set_ticklabels(['no_stroke','stroke'])"
   ]
  },
  {
   "cell_type": "code",
   "execution_count": 25,
   "id": "a5aa532f",
   "metadata": {},
   "outputs": [
    {
     "name": "stdout",
     "output_type": "stream",
     "text": [
      "Accuracy:  0.9866323907455012\n"
     ]
    }
   ],
   "source": [
    "knn = KNeighborsClassifier(n_neighbors=10)\n",
    "knn.fit(x_train, y_train)\n",
    "knn_preds = knn.predict(x_test)\n",
    "accuracy = accuracy_score(y_test, knn_preds)\n",
    "print(\"Accuracy: \", accuracy)"
   ]
  },
  {
   "cell_type": "code",
   "execution_count": 29,
   "id": "f37e4233",
   "metadata": {},
   "outputs": [
    {
     "data": {
      "text/plain": [
       "[Text(0, 0.5, 'no_stroke'), Text(0, 1.5, 'stroke')]"
      ]
     },
     "execution_count": 29,
     "metadata": {},
     "output_type": "execute_result"
    },
    {
     "data": {
      "image/png": "[encoded data removed]",
      "text/plain": [
       "<Figure size 432x288 with 2 Axes>"
      ]
     },
     "metadata": {
      "needs_background": "light"
     },
     "output_type": "display_data"
    }
   ],
   "source": [
    "cm = confusion_matrix(y_test,knn_preds)\n",
    "ax= plt.subplot()\n",
    "sns.heatmap(cm,annot = True,fmt ='0.7g',ax=ax)\n",
    "ax.xaxis.set_ticklabels(['no_stroke','stroke'])\n",
    "ax.yaxis.set_ticklabels(['no_stroke','stroke'])"
   ]
  },
  {
   "cell_type": "code",
   "execution_count": null,
   "id": "edc1d65d",
   "metadata": {},
   "outputs": [],
   "source": []
  }
 ],
 "metadata": {
  "kernelspec": {
   "display_name": "Python 3 (ipykernel)",
   "language": "python",
   "name": "python3"
  },
  "language_info": {
   "codemirror_mode": {
    "name": "ipython",
    "version": 3
   },
   "file_extension": ".py",
   "mimetype": "text/x-python",
   "name": "python",
   "nbconvert_exporter": "python",
   "pygments_lexer": "ipython3",
   "version": "3.9.12"
  }
 },
 "nbformat": 4,
 "nbformat_minor": 5
}
