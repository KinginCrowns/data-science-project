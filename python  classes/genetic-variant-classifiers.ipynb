{
 "cells": [
  {
   "cell_type": "markdown",
   "metadata": {},
   "source": [
    "# Genetic Variant Classification using Different Classifiers"
   ]
  },
  {
   "cell_type": "markdown",
   "metadata": {},
   "source": [
    "#### Objective:\n",
    "- Predict whether a variant will have conflicting clinical classifications.\n",
    "- Explore data in order to see what is expected from different classifiers and to determine what matters the most to each classifier."
   ]
  },
  {
   "cell_type": "markdown",
   "metadata": {},
   "source": [
    "#### Data:\n",
    "- ClinVar is a public resource containing annotations about human genetic variants. These variants are (usually manually) classified by clinical laboratories on a categorical spectrum ranging from benign, likely benign, uncertain significance, likely pathogenic, and pathogenic. Variants that have conflicting classifications (from laboratory to laboratory) can cause confusion when clinicians or researchers try to interpret whether the variant has an impact on the disease of a given patient."
   ]
  },
  {
   "cell_type": "code",
   "execution_count": 1,
   "metadata": {},
   "outputs": [
    {
     "data": {
      "text/plain": [
       "'\\nimport os\\nprint(os.listdir(\"../input\"))\\n'"
      ]
     },
     "execution_count": 1,
     "metadata": {},
     "output_type": "execute_result"
    }
   ],
   "source": [
    "import numpy as np # linear algebra\n",
    "import pandas as pd # data processing, CSV file I/O (e.g. pd.read_csv)\n",
    "import seaborn as sns\n",
    "import matplotlib.pyplot as plt\n",
    "\n",
    "# Limit floats output to 3 decimal points\n",
    "pd.set_option('display.float_format', lambda x: '%.3f' % x)\n",
    "\n",
    "# Increase default figure and font sizes for easier viewing.\n",
    "plt.rcParams['figure.figsize'] = (8, 6)\n",
    "plt.rcParams['font.size'] = 14\n",
    "\n",
    "\"\"\"\n",
    "import os\n",
    "print(os.listdir(\"../input\"))\n",
    "\"\"\"\n"
   ]
  },
  {
   "cell_type": "markdown",
   "metadata": {},
   "source": [
    "## Exploratory Data Analysis"
   ]
  },
  {
   "cell_type": "code",
   "execution_count": null,
   "metadata": {},
   "outputs": [],
   "source": [
    "dataframe = pd.read_csv('../GeneticVariantClassification/clinvar_conflicting.csv')"
   ]
  },
  {
   "cell_type": "code",
   "execution_count": null,
   "metadata": {},
   "outputs": [],
   "source": [
    "dataframe.head()"
   ]
  },
  {
   "cell_type": "code",
   "execution_count": null,
   "metadata": {},
   "outputs": [],
   "source": [
    "fig = plt.figure(figsize = (20, 20))\n",
    "sns.countplot(x = 'CLASS', data = dataframe, hue = 'CHROM', palette='icefire')"
   ]
  },
  {
   "cell_type": "markdown",
   "metadata": {},
   "source": [
    "#### Determine Null Values"
   ]
  },
  {
   "cell_type": "code",
   "execution_count": null,
   "metadata": {},
   "outputs": [],
   "source": [
    "fig = plt.figure(figsize = (15,15))\n",
    "sns.heatmap(dataframe.isnull(), cmap = 'seismic', cbar = False)"
   ]
  },
  {
   "cell_type": "markdown",
   "metadata": {},
   "source": [
    "- Null values are indicated by red coloration in the given graph above.\n",
    "- Visual inspection of the graph shows that the dataset appears incomplete or lacking massive amounts of information.\n"
   ]
  },
  {
   "cell_type": "markdown",
   "metadata": {},
   "source": [
    "#### Possible Approach (trim down dataset)\n",
    "- Consider the ones with mimimum losses and consider features with less than 1000 unique features:"
   ]
  },
  {
   "cell_type": "code",
   "execution_count": null,
   "metadata": {},
   "outputs": [],
   "source": [
    "dataframe.head(2)"
   ]
  },
  {
   "cell_type": "code",
   "execution_count": null,
   "metadata": {},
   "outputs": [],
   "source": [
    "considered = ['CHROM', 'POS', 'REF', 'ALT', 'AF_ESP', 'AF_EXAC', 'AF_TGP',\n",
    "       'CLNDISDB', 'CLNDN', 'CLNHGVS', 'CLNVC','MC', 'ORIGIN', 'CLASS',\n",
    "       'Allele', 'Consequence', 'IMPACT', 'SYMBOL', 'Feature_type',\n",
    "       'Feature', 'BIOTYPE', 'STRAND','CADD_PHRED', 'CADD_RAW']\n",
    "\n",
    "dataframe2 = dataframe[considered]\n",
    "dataframe2 = dataframe2.dropna()\n",
    "dataframe2['CHROM'] = dataframe2['CHROM'].astype(str)\n",
    "\n",
    "print('Number of Null Values: ', dataframe2.isnull().sum().sum())"
   ]
  },
  {
   "cell_type": "code",
   "execution_count": null,
   "metadata": {},
   "outputs": [],
   "source": [
    "trimDown = []\n",
    "for i in dataframe2.columns.values:\n",
    "    if dataframe2[i].nunique() < 1000:\n",
    "        trimDown.append(i)\n",
    "        \n",
    "print(\"Columns selected for training are: \", trimDown)"
   ]
  },
  {
   "cell_type": "code",
   "execution_count": null,
   "metadata": {},
   "outputs": [],
   "source": [
    "dataframe_final = dataframe2[trimDown]\n",
    "dataframe_final.info()"
   ]
  },
  {
   "cell_type": "code",
   "execution_count": null,
   "metadata": {},
   "outputs": [],
   "source": [
    "dataframe_final['CHROM'] = dataframe_final['CHROM'].astype(str)\n",
    "dataframe_final.info()"
   ]
  },
  {
   "cell_type": "markdown",
   "metadata": {},
   "source": [
    "## Feature Engineering\n",
    "- Apply Feature Hashers on columns with over 10 unique values or one-hot encoding.\n",
    "    - Feature Hashers: turns seq of symbolic feature names (str) into scipy.sparse matrices\n",
    "    - One-hot encoding: sparse way of representing data in a binary string in which only a single bit can be 1, while others are 0"
   ]
  },
  {
   "cell_type": "code",
   "execution_count": null,
   "metadata": {},
   "outputs": [],
   "source": [
    "dataframe_final"
   ]
  },
  {
   "cell_type": "code",
   "execution_count": null,
   "metadata": {},
   "outputs": [],
   "source": [
    "from sklearn.feature_extraction import FeatureHasher\n",
    "FH = FeatureHasher(n_features = 5, input_type = 'string')\n",
    "\n",
    "hash1 = FH.fit_transform(dataframe_final['REF'])\n",
    "hash1 = hash1.toarray()\n",
    "hashedFeatures1 = pd.DataFrame(hash1)"
   ]
  },
  {
   "cell_type": "code",
   "execution_count": null,
   "metadata": {},
   "outputs": [],
   "source": [
    "nameList = {}\n",
    "for i in hashedFeatures1.columns.values:\n",
    "    nameList[i] = \"REF\"+str(i+1)\n",
    "\n",
    "hashedFeatures1.rename(columns = nameList, inplace = True)\n",
    "print(\"The Hashed REF table is something like this : \\n\",hashedFeatures1.head())"
   ]
  },
  {
   "cell_type": "code",
   "execution_count": null,
   "metadata": {},
   "outputs": [],
   "source": [
    "hash2 = FH.fit_transform(dataframe_final['ALT'])\n",
    "hash2 = hash2.toarray()\n",
    "hashedFeatures2 = pd.DataFrame(hash2)\n",
    "\n",
    "nameList2 = {}\n",
    "for i in hashedFeatures2.columns.values:\n",
    "    nameList[i] = \"ALT\"+str(i+1)\n",
    "\n",
    "hashedFeatures2.rename(columns = nameList, inplace = True)\n",
    "print(\"The Hashed ALT table is something like this : \\n\",hashedFeatures2.head())"
   ]
  },
  {
   "cell_type": "code",
   "execution_count": null,
   "metadata": {},
   "outputs": [],
   "source": [
    "binaryFeature1 = pd.get_dummies(dataframe_final['CLNVC'])\n",
    "\n",
    "print(\"While the One hot encoded matrix of CLNVC Columns is like this : \\n\")\n",
    "\n",
    "binaryFeature1.head()"
   ]
  },
  {
   "cell_type": "code",
   "execution_count": null,
   "metadata": {},
   "outputs": [],
   "source": [
    "dataframe_final.columns"
   ]
  },
  {
   "cell_type": "code",
   "execution_count": null,
   "metadata": {},
   "outputs": [],
   "source": [
    "dataframe_final = dataframe_final.drop(columns = ['MC'], axis = 1)\n",
    "dataframe_final.columns"
   ]
  },
  {
   "cell_type": "code",
   "execution_count": null,
   "metadata": {},
   "outputs": [],
   "source": [
    "hash0 = FH.fit_transform(dataframe_final['CHROM'])\n",
    "hash0 = hash0.toarray()\n",
    "hashedFeatures0 = pd.DataFrame(hash0)\n",
    "\n",
    "nameList0 = {}\n",
    "for i in hashedFeatures0.columns.values:\n",
    "    nameList0[i] = \"CHROM\"+str(i+1)\n",
    "\n",
    "\n",
    "hashedFeatures0.rename(columns = nameList0, inplace = True)\n",
    "hashedFeatures0.head()"
   ]
  },
  {
   "cell_type": "code",
   "execution_count": null,
   "metadata": {},
   "outputs": [],
   "source": [
    "hash3 = FH.fit_transform(dataframe_final['Allele'])\n",
    "hash3 = hash3.toarray()\n",
    "hashedFeatures3 = pd.DataFrame(hash3)\n",
    "\n",
    "nameList3 = {}\n",
    "for i in hashedFeatures3.columns.values:\n",
    "    nameList3[i] = \"Allele\"+str(i+1)\n",
    "\n",
    "\n",
    "hashedFeatures3.rename(columns = nameList3, inplace = True)\n",
    "hashedFeatures3.head()"
   ]
  },
  {
   "cell_type": "code",
   "execution_count": null,
   "metadata": {},
   "outputs": [],
   "source": [
    "hash4 = FH.fit_transform(dataframe_final['Consequence'])\n",
    "hash4 = hash4.toarray()\n",
    "hashedFeatures4 = pd.DataFrame(hash4)\n",
    "\n",
    "nameList4 = {}\n",
    "for i in hashedFeatures4.columns.values:\n",
    "    nameList4[i] = \"Consequence\"+str(i+1)\n",
    "\n",
    "\n",
    "hashedFeatures4.rename(columns = nameList4, inplace = True)\n",
    "hashedFeatures4.head()"
   ]
  },
  {
   "cell_type": "code",
   "execution_count": null,
   "metadata": {},
   "outputs": [],
   "source": [
    "dataframe_final['IMPACT'].nunique()"
   ]
  },
  {
   "cell_type": "code",
   "execution_count": null,
   "metadata": {},
   "outputs": [],
   "source": [
    "dataframe_final = dataframe_final.drop(columns=['Feature_type'], axis = 1)"
   ]
  },
  {
   "cell_type": "code",
   "execution_count": null,
   "metadata": {},
   "outputs": [],
   "source": [
    "binaryFeature3 = pd.get_dummies(dataframe_final['IMPACT'])\n",
    "binaryFeature3.head()"
   ]
  },
  {
   "cell_type": "code",
   "execution_count": null,
   "metadata": {},
   "outputs": [],
   "source": [
    "binaryFeature4 = pd.get_dummies(dataframe_final['BIOTYPE'], drop_first=True)\n",
    "binaryFeature4.head()"
   ]
  },
  {
   "cell_type": "code",
   "execution_count": null,
   "metadata": {},
   "outputs": [],
   "source": [
    "binaryFeature5 = pd.get_dummies(dataframe_final['STRAND'], drop_first=True)\n",
    "binaryFeature5.head()"
   ]
  },
  {
   "cell_type": "markdown",
   "metadata": {},
   "source": [
    "#### Final Table"
   ]
  },
  {
   "cell_type": "code",
   "execution_count": null,
   "metadata": {},
   "outputs": [],
   "source": [
    "dataframe3 = pd.concat([binaryFeature1, binaryFeature3, binaryFeature4, binaryFeature5, hashedFeatures1 , hashedFeatures2, hashedFeatures3, hashedFeatures4,hashedFeatures0, dataframe_final['CLASS']], axis = 1)\n",
    "dataframe3 = dataframe3.dropna()\n",
    "dataframe3.rename(columns={1 : \"one\", 16 : \"sixteen\"}, inplace = True)\n",
    "\n",
    "\n",
    "print(dataframe3.columns.values)\n",
    "dataframe3.head()"
   ]
  },
  {
   "cell_type": "code",
   "execution_count": null,
   "metadata": {},
   "outputs": [],
   "source": [
    "y = dataframe3['CLASS']\n",
    "X = dataframe3.drop(columns = ['CLASS'], axis = 1)"
   ]
  },
  {
   "cell_type": "markdown",
   "metadata": {},
   "source": [
    "### Machine Learning Libraries"
   ]
  },
  {
   "cell_type": "code",
   "execution_count": null,
   "metadata": {},
   "outputs": [],
   "source": [
    "from sklearn.model_selection import train_test_split\n",
    "from sklearn.metrics import classification_report, confusion_matrix, accuracy_score\n",
    "from sklearn.linear_model import LogisticRegression\n",
    "from sklearn.tree import DecisionTreeClassifier\n",
    "from sklearn.ensemble import RandomForestClassifier\n",
    "from sklearn.ensemble import GradientBoostingClassifier\n",
    "# from xgboost import XGBClassifier"
   ]
  },
  {
   "cell_type": "code",
   "execution_count": null,
   "metadata": {},
   "outputs": [],
   "source": [
    "# XGBoost in different directory\n",
    "\n",
    "import sys\n",
    "sys.path.append(\"/usr/local/lib/python3.7/site-packages\")\n",
    "\n",
    "from xgboost import XGBClassifier"
   ]
  },
  {
   "cell_type": "code",
   "execution_count": null,
   "metadata": {},
   "outputs": [],
   "source": [
    "X_train, X_test, y_train, y_test = train_test_split(X, y, test_size = 0.25)"
   ]
  },
  {
   "cell_type": "markdown",
   "metadata": {},
   "source": [
    "## Logistic Regression"
   ]
  },
  {
   "cell_type": "code",
   "execution_count": null,
   "metadata": {},
   "outputs": [],
   "source": [
    "logReg = LogisticRegression()\n",
    "logReg.fit(X_train, y_train)\n",
    "pred_logReg = logReg.predict(X_test)\n",
    "\n",
    "print('Classification Report: \\n', classification_report(y_test, pred_logReg))"
   ]
  },
  {
   "cell_type": "markdown",
   "metadata": {},
   "source": [
    "- 56% accuracy in terms of precision is poor.\n",
    "- Poor Recall score of non-conflicting genes."
   ]
  },
  {
   "cell_type": "markdown",
   "metadata": {},
   "source": [
    "## Decision Trees"
   ]
  },
  {
   "cell_type": "code",
   "execution_count": null,
   "metadata": {},
   "outputs": [],
   "source": [
    "decisionTree = DecisionTreeClassifier(max_depth = 6)\n",
    "decisionTree.fit(X_train, y_train)\n",
    "pred_decisionTree = decisionTree.predict(X_test)\n",
    "\n",
    "print('Classification Report: \\n', classification_report(y_test, pred_decisionTree))"
   ]
  },
  {
   "cell_type": "markdown",
   "metadata": {},
   "source": [
    "- Total precision of 65% demonstrates that this classifier performed better.\n",
    "- Improvement in Recall score of non-conflicting genes and Precision in conflicting genes."
   ]
  },
  {
   "cell_type": "markdown",
   "metadata": {},
   "source": [
    "## Random Forest"
   ]
  },
  {
   "cell_type": "code",
   "execution_count": null,
   "metadata": {},
   "outputs": [],
   "source": [
    "randomForest = RandomForestClassifier()\n",
    "randomForest.fit(X_train, y_train)\n",
    "pred_randomForest = randomForest.predict(X_test)\n",
    "\n",
    "print( \"Classification Report :\\n \", classification_report(y_test, pred_randomForest))"
   ]
  },
  {
   "cell_type": "markdown",
   "metadata": {},
   "source": [
    "- Only improvement in Recall and f1-score for conflicting genes."
   ]
  },
  {
   "cell_type": "markdown",
   "metadata": {},
   "source": [
    "## Gradient Boost Classifier"
   ]
  },
  {
   "cell_type": "code",
   "execution_count": null,
   "metadata": {},
   "outputs": [],
   "source": [
    "gbc = GradientBoostingClassifier()\n",
    "gbc.fit(X_train, y_train)\n",
    "pred_gbc = gbc.predict(X_test)\n",
    "\n",
    "print('Classification Report :\\n ', classification_report(y_test, pred_gbc))"
   ]
  },
  {
   "cell_type": "markdown",
   "metadata": {},
   "source": [
    "- Gradient Boost Classifier provides the best overall accuracy.\n",
    "- Poor results for Recall and f1-score"
   ]
  },
  {
   "cell_type": "markdown",
   "metadata": {},
   "source": [
    "## Comparing Feature Importance"
   ]
  },
  {
   "cell_type": "code",
   "execution_count": null,
   "metadata": {},
   "outputs": [],
   "source": [
    "from collections import OrderedDict"
   ]
  },
  {
   "cell_type": "markdown",
   "metadata": {},
   "source": [
    "## Inference for Logistical Regression"
   ]
  },
  {
   "cell_type": "code",
   "execution_count": null,
   "metadata": {},
   "outputs": [],
   "source": [
    "important_features = {}\n",
    "for i in zip(X.columns, logReg.coef_[0]):\n",
    "    important_features[i[0]] = i[1]\n",
    "important_final = OrderedDict(important_features)\n",
    "\n",
    "dataframe_features = pd.DataFrame(important_final, index = range(1)).T\n",
    "dataframe_features.rename(columns = {0: 'Importance_LogReg'}, inplace = True)\n",
    "\n",
    "dataframe_features.plot(kind = 'bar', figsize = (20,5))"
   ]
  },
  {
   "cell_type": "markdown",
   "metadata": {},
   "source": [
    "- Most Important Features:\n",
    "    - Insertions, Inversions, and Indels\n",
    "    - Microsatellite\n",
    "    - HIGH\n",
    "- Chromosomes display little importance."
   ]
  },
  {
   "cell_type": "markdown",
   "metadata": {},
   "source": [
    "## Inference for Random Forest Classifier"
   ]
  },
  {
   "cell_type": "code",
   "execution_count": null,
   "metadata": {},
   "outputs": [],
   "source": [
    "important_features2 = {}\n",
    "for i in zip(X.columns, randomForest.feature_importances_):\n",
    "    important_features2[i[0]] = i[1]\n",
    "    \n",
    "important_final2 = OrderedDict(important_features2)\n",
    "print(important_final2)\n",
    "\n",
    "dataframe_features2 = pd.DataFrame(important_final2, index = range(1)).T\n",
    "dataframe_features2.rename(columns = {0: 'Importance_RandomForest'}, inplace = True)\n",
    "\n",
    "dataframe_features2.plot(kind = 'bar', figsize = (15,5))"
   ]
  },
  {
   "cell_type": "markdown",
   "metadata": {},
   "source": [
    "- Chromosomes (CHROM) are more of an important feature for Random Forest than it is for Logistical Regression."
   ]
  },
  {
   "cell_type": "markdown",
   "metadata": {},
   "source": [
    "## Comparison of Features Importance"
   ]
  },
  {
   "cell_type": "code",
   "execution_count": null,
   "metadata": {},
   "outputs": [],
   "source": [
    "dataframe_compare = pd.concat([dataframe_features, dataframe_features2], axis = 1)\n",
    "dataframe_compare.plot(kind = 'bar', figsize = (20,5))"
   ]
  },
  {
   "cell_type": "markdown",
   "metadata": {},
   "source": [
    "## Deep Learning"
   ]
  },
  {
   "cell_type": "code",
   "execution_count": null,
   "metadata": {},
   "outputs": [],
   "source": [
    "# pip install keras"
   ]
  },
  {
   "cell_type": "code",
   "execution_count": null,
   "metadata": {},
   "outputs": [],
   "source": [
    "from keras.models import Sequential\n",
    "from keras.layers import (Dense, Flatten, Dropout, BatchNormalization)"
   ]
  },
  {
   "cell_type": "code",
   "execution_count": null,
   "metadata": {},
   "outputs": [],
   "source": [
    "model = Sequential()\n",
    "\n",
    "model.add(Dense(128 , input_dim = 38, activation='relu'))\n",
    "model.add(BatchNormalization())\n",
    "model.add(Dense(64, activation='relu'))\n",
    "model.add(Dropout(0.33))\n",
    "model.add(Dense(32, activation='relu'))\n",
    "model.add(Dropout(0.33))\n",
    "model.add(Dense(16, activation='relu'))\n",
    "model.add(Dropout(0.25))\n",
    "model.add(Dense(1, activation = 'sigmoid'))"
   ]
  },
  {
   "cell_type": "code",
   "execution_count": null,
   "metadata": {},
   "outputs": [],
   "source": [
    "model.summary()"
   ]
  },
  {
   "cell_type": "code",
   "execution_count": null,
   "metadata": {},
   "outputs": [],
   "source": [
    "model.fit(X, y, batch_size=64, epochs = 20, verbose=1)"
   ]
  },
  {
   "cell_type": "code",
   "execution_count": null,
   "metadata": {},
   "outputs": [],
   "source": [
    "prediction = model.predict(X_test)"
   ]
  },
  {
   "cell_type": "code",
   "execution_count": null,
   "metadata": {},
   "outputs": [],
   "source": [
    "def finalPredictions(x):\n",
    "    if x<0.5 : \n",
    "        return 0\n",
    "    else:\n",
    "        return 1\n",
    "pred_deep = []\n",
    "for i in prediction:\n",
    "    pred_deep.append(finalPredictions(i))"
   ]
  },
  {
   "cell_type": "code",
   "execution_count": null,
   "metadata": {},
   "outputs": [],
   "source": [
    "print(classification_report(y_test, pred_deep))"
   ]
  },
  {
   "cell_type": "code",
   "execution_count": null,
   "metadata": {},
   "outputs": [],
   "source": []
  },
  {
   "cell_type": "code",
   "execution_count": null,
   "metadata": {},
   "outputs": [],
   "source": []
  }
 ],
 "metadata": {
  "kernelspec": {
   "display_name": "Python 3 (ipykernel)",
   "language": "python",
   "name": "python3"
  },
  "language_info": {
   "codemirror_mode": {
    "name": "ipython",
    "version": 3
   },
   "file_extension": ".py",
   "mimetype": "text/x-python",
   "name": "python",
   "nbconvert_exporter": "python",
   "pygments_lexer": "ipython3",
   "version": "3.9.12"
  }
 },
 "nbformat": 4,
 "nbformat_minor": 4
}
