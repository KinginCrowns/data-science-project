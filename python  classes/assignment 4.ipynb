{
 "cells": [
  {
   "cell_type": "code",
   "execution_count": 7,
   "id": "acf5dd61",
   "metadata": {},
   "outputs": [
    {
     "name": "stdout",
     "output_type": "stream",
     "text": [
      "Please provide your curent salary85000\n",
      "Please provide your years of service4\n",
      "Sorry try again next year\n"
     ]
    }
   ],
   "source": [
    "Basic_salary = int(input ('Please provide your curent salary'))\n",
    "Employment_duration = int(input ('Please provide your years of service'))\n",
    "Bonus = (Basic_salary / 100)*5\n",
    "Net_bonus = Bonus + Basic_salary\n",
    "\n",
    "if Employment_duration >= 5:\n",
    "    print(f'Congratulation your net bonus is {Net_bonus}')\n",
    "else:\n",
    "    print('Sorry sapa go kee you try again next year')"
   ]
  },
  {
   "cell_type": "code",
   "execution_count": 13,
   "id": "677fef0e",
   "metadata": {},
   "outputs": [
    {
     "name": "stdout",
     "output_type": "stream",
     "text": [
      "please enter any number20\n",
      "please enter any number20\n",
      "sorry both numbers are equal\n"
     ]
    }
   ],
   "source": [
    "number1 = int(input('please enter any number'))\n",
    "number2 = int(input('please enter any number'))\n",
    "\n",
    "if number1 > number2:\n",
    "    print(f' {number1} is the greatest among them')\n",
    "elif number1 < number2:\n",
    "    print(f'{number2} is the greatest among them')\n",
    "else:\n",
    "    print('sorry both numbers are equal')\n"
   ]
  },
  {
   "cell_type": "code",
   "execution_count": 14,
   "id": "c76add29",
   "metadata": {},
   "outputs": [
    {
     "name": "stdout",
     "output_type": "stream",
     "text": [
      "Please enter your age25\n",
      "please enter your age30\n",
      "please enter your age85\n",
      "Age3 is the oldest\n",
      "Age1 is the youngest\n"
     ]
    }
   ],
   "source": [
    "Age1 = int(input('Please enter your age')) \n",
    "Age2 = int(input('please enter your age'))\n",
    "Age3 = int(input('please enter your age'))\n",
    "\n",
    "if Age1 > Age2 and Age1 >Age3:\n",
    "    print('Age1 is the oldest')\n",
    "elif Age2 > Age1 and Age2> Age3:\n",
    "    print('Age2 is the oldest')\n",
    "else:\n",
    "    print('Age3 is the oldest')\n",
    "if Age1 < Age2 and Age1 < Age3:\n",
    "    print('Age1 is the youngest')\n",
    "elif Age2 < Age1 and Age2 < Age3:\n",
    "    print('Age2 is the youngest')\n",
    "else:\n",
    "    print('Age3 is the youngest')"
   ]
  },
  {
   "cell_type": "code",
   "execution_count": 18,
   "id": "1cbd1fee",
   "metadata": {},
   "outputs": [
    {
     "name": "stdout",
     "output_type": "stream",
     "text": [
      "please enter the total number of classes held75\n",
      "please enter the total number of days student present70\n",
      "You are allowed to sit for the exam\n"
     ]
    }
   ],
   "source": [
    "Number_of_classes_held = int(input('please enter the total number of classes held'))\n",
    "Number_of_classes_attended = int(input('please enter the total number of days student present'))\n",
    "percentage_of_class_attended = (Number_of_classes_held /Number_of_classes_attended)*100\n",
    "\n",
    "if percentage_of_class_attended > 75:\n",
    "    print('You are allowed to sit for the exam')\n",
    "else:\n",
    "    print('Sorry you are not allowed to sit this exam')"
   ]
  },
  {
   "cell_type": "code",
   "execution_count": 61,
   "id": "63fe31c2",
   "metadata": {},
   "outputs": [
    {
     "name": "stdout",
     "output_type": "stream",
     "text": [
      "Please enter your age70\n",
      "Please enter your sexf\n",
      "enter your marital status married(Y) or single(N)y\n",
      "Sorry you are not elegible enrole\n"
     ]
    }
   ],
   "source": [
    "Age = int(input('Please enter your age'))\n",
    "Sex = str(input('Please enter your sex'))\n",
    "marital_status = str(input('enter your marital status married(Y) or single(N)'))\n",
    "\n",
    "if Sex == 'F':\n",
    "    print('you are assigned to work in urban areas')\n",
    "elif Sex == 'M' and Age >= 20 and Age <= 40:\n",
    "    print('you are assigned to work anywhere')\n",
    "elif Sex == 'M' and Age >= 40 and Age <= 60:\n",
    "    print('you are assigned to work in urban areas')\n",
    "elif Age > 60:\n",
    "    print('Sorry you are not elegible enrole')\n",
    "else:\n",
    "    print('Sorry data not available')\n",
    "    "
   ]
  },
  {
   "cell_type": "code",
   "execution_count": null,
   "id": "a561925f",
   "metadata": {},
   "outputs": [],
   "source": []
  },
  {
   "cell_type": "code",
   "execution_count": null,
   "id": "c20837b1",
   "metadata": {},
   "outputs": [],
   "source": []
  }
 ],
 "metadata": {
  "kernelspec": {
   "display_name": "Python 3",
   "language": "python",
   "name": "python3"
  },
  "language_info": {
   "codemirror_mode": {
    "name": "ipython",
    "version": 3
   },
   "file_extension": ".py",
   "mimetype": "text/x-python",
   "name": "python",
   "nbconvert_exporter": "python",
   "pygments_lexer": "ipython3",
   "version": "3.8.8"
  }
 },
 "nbformat": 4,
 "nbformat_minor": 5
}
