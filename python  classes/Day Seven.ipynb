{
 "cells": [
  {
   "cell_type": "markdown",
   "id": "95cebb6a",
   "metadata": {},
   "source": [
    "# lambda funtion "
   ]
  },
  {
   "cell_type": "code",
   "execution_count": 2,
   "id": "1fdafd43",
   "metadata": {},
   "outputs": [
    {
     "data": {
      "text/plain": [
       "3125"
      ]
     },
     "execution_count": 2,
     "metadata": {},
     "output_type": "execute_result"
    }
   ],
   "source": [
    "(lambda x: x**x) (5) # it can only be used ones and can't be reused"
   ]
  },
  {
   "cell_type": "code",
   "execution_count": 4,
   "id": "529a6829",
   "metadata": {},
   "outputs": [
    {
     "name": "stdout",
     "output_type": "stream",
     "text": [
      "Please provide a number28\n"
     ]
    },
    {
     "data": {
      "text/plain": [
       "'28 is an even number'"
      ]
     },
     "execution_count": 4,
     "metadata": {},
     "output_type": "execute_result"
    }
   ],
   "source": [
    "# Excesise 1\n",
    "# Write a lambda funtion to check if a given number is an even number or odd number\n",
    "\n",
    "(lambda num: f'{num} is an even number' if num % 2==0 else f' {num} is an odd number')(int(input('Please provide a number')))"
   ]
  },
  {
   "cell_type": "code",
   "execution_count": 5,
   "id": "0347c178",
   "metadata": {},
   "outputs": [
    {
     "name": "stdout",
     "output_type": "stream",
     "text": [
      "Please provide your passwordClement#\n"
     ]
    },
    {
     "data": {
      "text/plain": [
       "False"
      ]
     },
     "execution_count": 5,
     "metadata": {},
     "output_type": "execute_result"
    }
   ],
   "source": [
    "# Excersise 2\n",
    "# writee a lambda funtion to check if a given password start with an uppercase letter and end with any special character\n",
    "\n",
    "(lambda password: f' {password} starts with uppercase letter and ends with special character' if password[0] == password.upper() and password[-1] =='#'or password[-1] == '@' else False)(input('Please provide your password :'))"
   ]
  },
  {
   "cell_type": "markdown",
   "id": "021cedf7",
   "metadata": {},
   "source": [
    "# Map and Filter"
   ]
  },
  {
   "cell_type": "code",
   "execution_count": 1,
   "id": "b5ebce12",
   "metadata": {},
   "outputs": [
    {
     "name": "stdout",
     "output_type": "stream",
     "text": [
      "['BINGO', 'CAPPY', 'WISKY', 'BANTY', 'HENRY']\n"
     ]
    }
   ],
   "source": [
    "# map is for modifycation and filter is for selection of iterable object (list and tuple)\n",
    "\n",
    "dogs = ['bingo', 'cappy','wisky','banty','henry']\n",
    "updatelist = list(map(lambda x: str.upper(x), dogs))\n",
    "print(updatelist )"
   ]
  },
  {
   "cell_type": "code",
   "execution_count": 4,
   "id": "3689810c",
   "metadata": {},
   "outputs": [
    {
     "name": "stdout",
     "output_type": "stream",
     "text": [
      "[53, 57, 65, 57, 49, 48, 66, 70, 51, 50, 58, 52, 56, 61, 68, 45, 62, 59, 49, 65, 52, 68, 68, 52, 54, 45, 52, 59, 51, 49, 47, 61, 45, 50, 63, 56, 66, 46, 67, 48, 47, 70, 68, 57, 70, 51, 69, 68, 49, 66]\n",
      "[7.280109889280518, 7.54983443527075, 8.06225774829855, 7.54983443527075, 7.0, 6.928203230275509, 8.12403840463596, 8.366600265340756, 7.14142842854285, 7.0710678118654755, 7.615773105863909, 7.211102550927978, 7.483314773547883, 7.810249675906654, 8.246211251235321, 6.708203932499369, 7.874007874011811, 7.681145747868608, 7.0, 8.06225774829855, 7.211102550927978, 8.246211251235321, 8.246211251235321, 7.211102550927978, 7.3484692283495345, 6.708203932499369, 7.211102550927978, 7.681145747868608, 7.14142842854285, 7.0, 6.855654600401044, 7.810249675906654, 6.708203932499369, 7.0710678118654755, 7.937253933193772, 7.483314773547883, 8.12403840463596, 6.782329983125268, 8.18535277187245, 6.928203230275509, 6.855654600401044, 8.366600265340756, 8.246211251235321, 7.54983443527075, 8.366600265340756, 7.14142842854285, 8.306623862918075, 8.246211251235321, 7.0, 8.12403840463596]\n",
      "[53, 49, 48, 51, 50, 52, 45, 49, 52, 52, 54, 45, 52, 51, 49, 47, 45, 50, 46, 48, 47, 51, 49]\n"
     ]
    }
   ],
   "source": [
    "import random as rn\n",
    "import math as m\n",
    "numbers =[]\n",
    "counter = 1\n",
    "while counter <= 50:\n",
    "    num = rn.randint(45,70)\n",
    "    numbers.append(num)\n",
    "    counter +=1\n",
    "print(numbers)\n",
    "numsqrt = list(map(lambda x:m.sqrt(x), numbers))\n",
    "numfilter = list(filter(lambda x: x<=55, numbers))\n",
    "print(numsqrt)\n",
    "print(numfilter)"
   ]
  },
  {
   "cell_type": "code",
   "execution_count": null,
   "id": "46fbcd3f",
   "metadata": {},
   "outputs": [],
   "source": []
  }
 ],
 "metadata": {
  "kernelspec": {
   "display_name": "Python 3",
   "language": "python",
   "name": "python3"
  },
  "language_info": {
   "codemirror_mode": {
    "name": "ipython",
    "version": 3
   },
   "file_extension": ".py",
   "mimetype": "text/x-python",
   "name": "python",
   "nbconvert_exporter": "python",
   "pygments_lexer": "ipython3",
   "version": "3.8.8"
  }
 },
 "nbformat": 4,
 "nbformat_minor": 5
}
