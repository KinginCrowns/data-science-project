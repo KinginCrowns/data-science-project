{
 "cells": [
  {
   "cell_type": "code",
   "execution_count": 1,
   "id": "4ac83a58",
   "metadata": {},
   "outputs": [],
   "source": [
    "numbers = (46,53,45,48,55,45,49,51,51,58,50,55,53,57,50,46,55,55,47,57,55)"
   ]
  },
  {
   "cell_type": "code",
   "execution_count": 2,
   "id": "8bf6a396",
   "metadata": {},
   "outputs": [
    {
     "name": "stdout",
     "output_type": "stream",
     "text": [
      "(55, 57, 47, 55, 55, 46, 50, 57, 53, 55, 50, 58, 51, 51, 49, 45, 55, 48, 45, 53, 46)\n"
     ]
    }
   ],
   "source": [
    "result =reversed(numbers)\n",
    "result =tuple(result)\n",
    "print(result)"
   ]
  },
  {
   "cell_type": "code",
   "execution_count": 3,
   "id": "9e45e38f",
   "metadata": {},
   "outputs": [
    {
     "name": "stdout",
     "output_type": "stream",
     "text": [
      "58\n"
     ]
    }
   ],
   "source": [
    "print(numbers[9])"
   ]
  },
  {
   "cell_type": "code",
   "execution_count": 4,
   "id": "25e61332",
   "metadata": {},
   "outputs": [
    {
     "name": "stdout",
     "output_type": "stream",
     "text": [
      "5\n"
     ]
    }
   ],
   "source": [
    "print(numbers.count(55))"
   ]
  },
  {
   "cell_type": "code",
   "execution_count": 5,
   "id": "cda584b1",
   "metadata": {},
   "outputs": [
    {
     "name": "stdout",
     "output_type": "stream",
     "text": [
      "49\n",
      "57\n"
     ]
    }
   ],
   "source": [
    "print(numbers[6])\n"
   ]
  },
  {
   "cell_type": "code",
   "execution_count": 6,
   "id": "b63dac33",
   "metadata": {},
   "outputs": [],
   "source": [
    "marks = [46,53,45,48,55,45,49,51,51,58,50,55,53,57,50,46,55,55,47,57,55]"
   ]
  },
  {
   "cell_type": "code",
   "execution_count": 7,
   "id": "2b1fe631",
   "metadata": {},
   "outputs": [
    {
     "name": "stdout",
     "output_type": "stream",
     "text": [
      "[55, 57, 47, 55, 55, 46, 50, 57, 53, 55, 50, 58, 51, 51, 49, 45, 55, 48, 45, 53, 46]\n"
     ]
    }
   ],
   "source": [
    " marks.reverse()\n",
    "print(marks)"
   ]
  },
  {
   "cell_type": "code",
   "execution_count": 14,
   "id": "58d9f98d",
   "metadata": {},
   "outputs": [
    {
     "name": "stdout",
     "output_type": "stream",
     "text": [
      "57\n",
      "49\n"
     ]
    }
   ],
   "source": [
    "print(marks[1])\n",
    "print(marks[14])"
   ]
  },
  {
   "cell_type": "code",
   "execution_count": 9,
   "id": "050f925a",
   "metadata": {},
   "outputs": [
    {
     "name": "stdout",
     "output_type": "stream",
     "text": [
      "2\n"
     ]
    }
   ],
   "source": [
    "print(marks.count(51))"
   ]
  },
  {
   "cell_type": "code",
   "execution_count": 10,
   "id": "f53ee440",
   "metadata": {},
   "outputs": [
    {
     "name": "stdout",
     "output_type": "stream",
     "text": [
      "50\n"
     ]
    }
   ],
   "source": [
    "print(marks[6])"
   ]
  },
  {
   "cell_type": "code",
   "execution_count": 11,
   "id": "85e0deab",
   "metadata": {},
   "outputs": [
    {
     "name": "stdout",
     "output_type": "stream",
     "text": [
      "[55, 57, 47, 55, 55, 46, 50, 57, 53, 55, 50, 58, 51, 51, 49, 69, 45, 55, 48, 45, 53, 46]\n"
     ]
    }
   ],
   "source": [
    "marks.insert(15,69)\n",
    "print(marks)"
   ]
  },
  {
   "cell_type": "code",
   "execution_count": 12,
   "id": "d43679f8",
   "metadata": {},
   "outputs": [],
   "source": [
    "additional_marks = (89,85,36,95,45,78)"
   ]
  },
  {
   "cell_type": "code",
   "execution_count": 13,
   "id": "dd743b9f",
   "metadata": {},
   "outputs": [
    {
     "name": "stdout",
     "output_type": "stream",
     "text": [
      "[55, 57, 47, 55, 55, 46, 50, 57, 53, 55, 50, 58, 51, 51, 49, 69, 45, 55, 48, 45, 53, 46, 89, 85, 36, 95, 45, 78]\n"
     ]
    }
   ],
   "source": [
    "marks.extend(additional_marks)\n",
    "print(marks)"
   ]
  },
  {
   "cell_type": "code",
   "execution_count": null,
   "id": "92081b04",
   "metadata": {},
   "outputs": [],
   "source": [
    "Football_clubs = {'Manchester united':['England','Eric-ten-hag','burno fernandes','4.2bn','4-4-2'],\n",
    "                   'Manchester city':['England','Pep guardiola','Fernandinho','4bn','4-3-3'],\n",
    "                 'Chelsea':['England','Thomas tuchel','Azpilicueta','2.1bn','3-5-3'],\n",
    "                 'Leeds United':['England','jesse marsch','Liam Cooper','4bn','4-4-2'],\n",
    "                 'Norwich',:\n",
    "                 'Aston villa':,\n",
    "                 'Burnely':,\n",
    "                 'West ham united':,\n",
    "                 'Watford':,\n",
    "                 'Leicester':,}"
   ]
  }
 ],
 "metadata": {
  "kernelspec": {
   "display_name": "Python 3",
   "language": "python",
   "name": "python3"
  },
  "language_info": {
   "codemirror_mode": {
    "name": "ipython",
    "version": 3
   },
   "file_extension": ".py",
   "mimetype": "text/x-python",
   "name": "python",
   "nbconvert_exporter": "python",
   "pygments_lexer": "ipython3",
   "version": "3.8.8"
  }
 },
 "nbformat": 4,
 "nbformat_minor": 5
}
